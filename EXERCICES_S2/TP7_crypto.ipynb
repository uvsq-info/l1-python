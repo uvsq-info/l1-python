{
 "cells": [
  {
   "cell_type": "markdown",
   "metadata": {},
   "source": [
    "# Cryptographie\n",
    "\n",
    "Nous allons programmer une interface pour chiffrer et déchiffrer un message à partir d'une clé secrète.\n",
    "Vous commencerez par créer l'interface graphique suivante : deux zones de saisies de texte `Entry`, pour récupérer\n",
    "le message à chiffrer et la clé, deux boutons pour chiffrer et déchiffrer et une zone de saisie pour afficher le résultat (et pouvoir copier le résultat). "
   ]
  },
  {
   "cell_type": "code",
   "execution_count": 2,
   "metadata": {},
   "outputs": [],
   "source": [
    "import tkinter as tk\n"
   ]
  },
  {
   "cell_type": "markdown",
   "metadata": {},
   "source": [
    "1. Créer une fonction `decalage(lettre_message,lettre_cle)` qui prend en argument deux caractères ASCII (en python chaine de caractères d'une lettre) et qui renvoie le décalage de la première lettre par la seconde. On rapelle que la fonction `ord(caractere)` donne le code (entier) de `caractere` et que la fonction `chr(code)` qui transforme le code en le caractère correspondant. Les codes ASCII sont sur 8 bits."
   ]
  },
  {
   "cell_type": "code",
   "execution_count": 3,
   "metadata": {},
   "outputs": [
    {
     "name": "stdout",
     "output_type": "stream",
     "text": [
      "b\n",
      "a\n",
      "97\n",
      "122\n"
     ]
    },
    {
     "data": {
      "text/plain": [
       "'a'"
      ]
     },
     "execution_count": 3,
     "metadata": {},
     "output_type": "execute_result"
    }
   ],
   "source": [
    "placement=0\n",
    "def decalage(lettre_message,lettre_cle):\n",
    "    indice=ord(lettre_message)-ord(\"a\")\n",
    "    decal=ord(lettre_cle)-ord(\"a\") \n",
    "    new_pos=(indice+decal)%26\n",
    "    return chr(new_pos+ord(\"a\"))\n",
    "\n",
    "\n",
    "\n",
    "print(decalage(\"a\",\"b\"))\n",
    "print(decalage(\"z\",\"b\"))\n",
    "print(ord(\"a\"))\n",
    "print(ord(\"z\"))\n",
    "chr(97)"
   ]
  },
  {
   "cell_type": "markdown",
   "metadata": {},
   "source": [
    "2. Créer une fonction `chiffrer()` qui lit le message et la clé contenus dans les deux widgets `Entry` et \n",
    "applique lettre par lettre la fonction décalage. Si la clé est trop courte, elle est répétée cycliquement.\n",
    "Le résultat est affiché dans le widget `Entry` prévu à cet usage. \n",
    "Pour afficher dans un widget `Entry` qui s'appelle `entree`, il faut faire `entree.insert(0,texte)`\n",
    "et pour effacer le contenu du widget faire `entree.delete(0,tk.END)`. On fera une fonction qui effectuera le calcul et une fonction callback pour l'appliquer à nos textes en entrée."
   ]
  },
  {
   "cell_type": "code",
   "execution_count": 4,
   "metadata": {},
   "outputs": [
    {
     "name": "stdout",
     "output_type": "stream",
     "text": [
      "kajbjeocpdf\n"
     ]
    }
   ],
   "source": [
    "def dec_texte(texte,cle):\n",
    "    res=\"\"\n",
    "    for i in range (len(texte)):\n",
    "        if i%len(cle)==0:\n",
    "            cle+=cle\n",
    "        res+=decalage(texte[i],cle[i])\n",
    "    return res\n",
    "\n",
    "print(dec_texte(\"jaibiencode\",\"ba\"))\n",
    "\n",
    "def chiffre():#gère la lecture dans les champs d'entrée et l'affichage du résultat \n",
    "     if len(entree.cle.get())==0 or len(entree_texte.get()) ==0:\n",
    "        print('remplir les deux champ')\n",
    "     else:\n",
    "        resultat.delete(0,tk.END)\n",
    "        resultat.insert(0,dec_texte(entree_texte.get(),entree_cle.get()))\n"
   ]
  },
  {
   "cell_type": "markdown",
   "metadata": {},
   "source": [
    "3. Détecter si le message ou la clé est vide, pour afficher un message d'erreur."
   ]
  },
  {
   "cell_type": "code",
   "execution_count": 5,
   "metadata": {},
   "outputs": [],
   "source": [
    "def erreurs(cle):\n",
    "    if cle == \"\":\n",
    "        print(\"ERROR: clé vide!\")\n",
    "    elif cle==None:\n",
    "        print(\"ERROR: clé vide!\")\n",
    "      "
   ]
  },
  {
   "cell_type": "markdown",
   "metadata": {},
   "source": [
    "4. Créer une fonction `dechiffrer()` qui lit le message et la clé contenue dans les deux widgets `Entry` et déchiffre le message grâce à la clé. Le résultat est affiché dans le `Label` prévu à cet usage.\n",
    "En quoi l'opération est différente du chiffrement ?"
   ]
  },
  {
   "cell_type": "code",
   "execution_count": 6,
   "metadata": {},
   "outputs": [
    {
     "name": "stdout",
     "output_type": "stream",
     "text": [
      "jaibiencode\n"
     ]
    }
   ],
   "source": [
    "def decalage_inv(lettre_message,lettre_cle):\n",
    "    indice=ord(lettre_message)-ord(\"a\")\n",
    "    decal=ord(lettre_cle)-ord(\"a\") \n",
    "    new_pos=(indice-decal)%26\n",
    "    return chr(new_pos+ord(\"a\"))\n",
    "\n",
    "\n",
    "def dec_texte_inv(texte,cle):\n",
    "    res=\"\"\n",
    "    for i in range (len(texte)):\n",
    "        if i%len(cle)==0:\n",
    "            cle+=cle\n",
    "        res+=decalage_inv(texte[i],cle[i])\n",
    "    return res\n",
    "        \n",
    "        \n",
    "    \n",
    "\n",
    "def dechiffre():\n",
    "\n",
    "# gère la lecture dans les champs d'entrée et l'affichage du résultat \n",
    "    if len(entree.cle.get())==0 or len(entree_texte.get()) ==0:\n",
    "        print('remplir les deux champ')\n",
    "    else:\n",
    "        resultat.delete(0,tk.END)\n",
    "        resultat.insert(0,dec_texte_inv(entree_texte.get(),entree_cle.get()))\n",
    "print(dec_texte_inv(\"kajbjeocpdf\",\"ba\"))"
   ]
  },
  {
   "cell_type": "markdown",
   "metadata": {},
   "source": [
    "5. Tester votre programme en envoyant un message crypté à un de vos camarades et en lui donnant la clé à l'oral (par exemple votre prénom). Il doit être capable de retrouver le texte original."
   ]
  },
  {
   "cell_type": "markdown",
   "metadata": {},
   "source": [
    "6. Crypter un texte et cacher le dans une image avec le programme du TD précédent et envoyer le résultat à un camarade. Est-il capable de récupérer le message ?"
   ]
  },
  {
   "cell_type": "markdown",
   "metadata": {},
   "source": [
    "7. Au lieu de chiffrer caractère par caractère, on veut coder bit à bit en appliquant un XOR. \n",
    "Donner une nouvelle méthode `chiffre_xor(lettre_message,lettre_cle)` pour remplacer `decalage(lettre_message,lettre_cle)` et tester votre nouvelle méthode cryptage."
   ]
  },
  {
   "cell_type": "code",
   "execution_count": 7,
   "metadata": {},
   "outputs": [
    {
     "name": "stdout",
     "output_type": "stream",
     "text": [
      "\u0003\n",
      "\u000eC\u0015\u001e\u0010P\u0018\n",
      "P\u0019\u0001\u0003\u0019\n",
      "c'est un test\n"
     ]
    }
   ],
   "source": [
    "def chiffre_xor(lettre_message,lettre_cle):\n",
    "    return chr(ord(lettre_message)^ord(lettre_cle))\n",
    "\n",
    "print(chiffre_xor(\"a\",\"b\"))\n",
    "\n",
    "def dec_texte_xor(texte,cle):\n",
    "    res=\"\"\n",
    "    for i in range (len(texte)):\n",
    "        if i%len(cle)==0:\n",
    "            cle+=cle\n",
    "        res+=chiffre_xor(texte[i],cle[i])\n",
    "    return res\n",
    "\n",
    "print(dec_texte_xor(\"c'est un test\",\"mdp\"))\n",
    "print(dec_texte_xor(dec_texte_xor(\"c'est un test\",\"mdp\"),\"mdp\"))\n"
   ]
  },
  {
   "cell_type": "code",
   "execution_count": 8,
   "metadata": {},
   "outputs": [
    {
     "name": "stdout",
     "output_type": "stream",
     "text": [
      "5\n",
      "7\n"
     ]
    }
   ],
   "source": [
    "print(7^2)\n",
    "print(5^2)"
   ]
  },
  {
   "cell_type": "code",
   "execution_count": 13,
   "metadata": {},
   "outputs": [],
   "source": [
    "def dechiffre():\n",
    "\n",
    "# gère la lecture dans les champs d'entrée et l'affichage du résultat \n",
    "    if len(entree_cle.get())==0 or len(entree_texte.get()) ==0:\n",
    "        resultat.config(text='remplir les deux champ')\n",
    "    else:\n",
    "        resultat.config(text=tk.END)\n",
    "        resultat.config(text=dec_texte_inv(entree_texte.get(),entree_cle.get()))\n",
    "\n",
    "def chiffre():#gère la lecture dans les champs d'entrée et l'affichage du résultat \n",
    "     if len(entree_cle.get())==0 or len(entree_texte.get()) ==0:\n",
    "        resultat.config(text='remplir les deux champ')\n",
    "     else:\n",
    "        resultat.config(text=tk.END)\n",
    "        resultat.config(text=dec_texte(entree_texte.get(),entree_cle.get()))\n",
    "\n",
    "fenetre=tk.Tk()\n",
    "fenetre.title(\"Crypto\")\n",
    "fenetre.geometry(\"500x300\")\n",
    "entree_texte=tk.Entry(fenetre, width=30)\n",
    "entree_texte.grid(column=1,row=0)\n",
    "\n",
    "entree_cle=tk.Entry(fenetre, width=30)\n",
    "entree_cle.grid(column=2,row=0)\n",
    "\n",
    "ButtonCrypt=tk.Button(fenetre, text=\"crypter\",command=chiffre)\n",
    "ButtonCrypt.grid(column=1,row=1)\n",
    "\n",
    "ButtonDecrypt=tk.Button(fenetre, text= \"decrypter\", command=dechiffre)\n",
    "resultat=tk.Label(fenetre,text=\"resultat\")\n",
    "resultat.grid(column=2,row=3)\n",
    "ButtonDecrypt.grid(column=2,row=1)\n",
    "fenetre.mainloop()"
   ]
  },
  {
   "cell_type": "code",
   "execution_count": null,
   "metadata": {},
   "outputs": [
    {
     "name": "stdout",
     "output_type": "stream",
     "text": [
      "Note: you may need to restart the kernel to use updated packages.\n"
     ]
    },
    {
     "name": "stderr",
     "output_type": "stream",
     "text": [
      "ERROR: Could not find a version that satisfies the requirement tkinter (from versions: none)\n",
      "ERROR: No matching distribution found for tkinter\n"
     ]
    }
   ],
   "source": []
  },
  {
   "cell_type": "code",
   "execution_count": null,
   "metadata": {},
   "outputs": [],
   "source": []
  }
 ],
 "metadata": {
  "kernelspec": {
   "display_name": "Python 3",
   "language": "python",
   "name": "python3"
  },
  "language_info": {
   "codemirror_mode": {
    "name": "ipython",
    "version": 3
   },
   "file_extension": ".py",
   "mimetype": "text/x-python",
   "name": "python",
   "nbconvert_exporter": "python",
   "pygments_lexer": "ipython3",
   "version": "3.12.2"
  }
 },
 "nbformat": 4,
 "nbformat_minor": 4
}
