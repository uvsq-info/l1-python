{
 "cells": [
  {
   "cell_type": "markdown",
   "metadata": {},
   "source": [
    "Commencer par importer 'tkinter' et les librairies nécessaires à l'aide des commandes suivantes :"
   ]
  },
  {
   "cell_type": "code",
   "execution_count": 1,
   "metadata": {},
   "outputs": [],
   "source": [
    "import tkinter as tk\n",
    "import PIL as pil\n",
    "from PIL import Image\n",
    "from PIL import ImageTk \n",
    "from tkinter import filedialog\n",
    "from tkinter import simpledialog"
   ]
  },
  {
   "attachments": {},
   "cell_type": "markdown",
   "metadata": {},
   "source": [
    "Vous pouvez consulter la documentation de tkinter https://docs.python.org/fr/3/library/tk.html et une documentation en français http://tkinter.fdex.eu/.\n",
    "Créer une fenêtre tkinter qui a pour titre \"J'apprends Tkinter\" et qui affiche le texte \"J'adore Python !\" dans la fenêtre"
   ]
  },
  {
   "cell_type": "code",
   "execution_count": 2,
   "metadata": {},
   "outputs": [],
   "source": [
    "import tkinter as tk\n",
    "\n",
    "root=tk.Tk()\n",
    "root.geometry(\"500x500\")\n",
    "root.title(\"J'apprends Tkinter\")\n",
    "label= tk.Label(root, text=\"J'adore Python !\", font=('Arial',18))\n",
    "label.pack(padx=20, pady=20)\n",
    "root.mainloop()\n"
   ]
  },
  {
   "cell_type": "markdown",
   "metadata": {},
   "source": [
    "Toujours dans la même fenêtre, ajouter maintenant un bouton permettant de quitter la fenêtre, il faudra pour cela \n",
    "créer une fonction callback `fermer_fenetre` qui appelle la méthode `destroy()`"
   ]
  },
  {
   "cell_type": "code",
   "execution_count": 3,
   "metadata": {},
   "outputs": [],
   "source": [
    "import tkinter as tk\n",
    "def fermer_fenetre():\n",
    "    return root.destroy\n",
    "\n",
    "\n",
    "root=tk.Tk()\n",
    "root.geometry(\"500x500\")\n",
    "root.title(\"J'apprends Tkinter\")\n",
    "label= tk.Label(root, text=\"J'adore Python !\", font=('Arial',18))\n",
    "label.pack(padx=20, pady=20)\n",
    "button1= tk.Button(root, text=\"Click ici!\", command=fermer_fenetre())\n",
    "button1.pack(padx=50 , pady=50)\n",
    "root.mainloop()\n"
   ]
  },
  {
   "cell_type": "markdown",
   "metadata": {},
   "source": [
    "Maintenant nous allons modifier la disposition des différents éléments en utilisant une grille pour positionner les éléments dans la fenêtre. Ajouter un canevas rouge à droite du label et du bouton."
   ]
  },
  {
   "cell_type": "code",
   "execution_count": 4,
   "metadata": {},
   "outputs": [],
   "source": [
    "#Faire un canevas de taile 300x300 pour que ce soit lisible\n",
    "import tkinter as tk\n",
    "def fermer_fenetre():\n",
    "    return root.destroy\n",
    "\n",
    "\n",
    "root=tk.Tk()\n",
    "root.geometry(\"300x300\")\n",
    "root.title(\"J'apprends Tkinter\")\n",
    "label= tk.Label(root, text=\"J'adore Python !\", font=('Arial',18))\n",
    "label.pack(padx=20, pady=20)\n",
    "\n",
    "buttonfenetre=tk.Frame(root)\n",
    "button1= tk.Button(buttonfenetre, text=\"Click ici!\", command=fermer_fenetre())\n",
    "button1.grid(row=0 , column=0 , sticky=\"we\")\n",
    "canevas1=tk.Canvas(buttonfenetre, background=\"red\", width=50 , height=50)\n",
    "canevas1.grid(row=0 , column=1, sticky=\"we\" )\n",
    "buttonfenetre.pack()\n",
    "\n",
    "root.mainloop()\n",
    "\n"
   ]
  },
  {
   "cell_type": "markdown",
   "metadata": {},
   "source": [
    "Ajouter un canevas noir en dessous du canevas rouge précédent. Faire une fonction qui permet de compter le nombre de clics sur le carré rouge. Afficher cette valeur dans le label qui servait à afficher \"j'adore python\". Attention, le compteur du nombre de clics est appelé dans une fonction callback, il faut donc le récupérer en dehors de cette fonction en le déclarant comme variable globale. Utiliser la méthode `bind` pour récupérer le clic de souris."
   ]
  },
  {
   "cell_type": "code",
   "execution_count": 5,
   "metadata": {},
   "outputs": [],
   "source": [
    "#Faire un canevas de taile 300x300 pour que ce soit lisible\n",
    "import tkinter as tk\n",
    "def fermer_fenetre():\n",
    "    return root.destroy\n",
    "cnt = 0\n",
    "def countclick(event):\n",
    "    global cnt\n",
    "    cnt+=1\n",
    "    label.configure(text=\"J'adore Python ! \" +str(cnt))\n",
    "\n",
    "root=tk.Tk()\n",
    "root.geometry(\"300x300\")\n",
    "root.title(\"J'apprends Tkinter \")\n",
    "label= tk.Label(root, text=\"J'adore Python ! \" +str(cnt), font=('Arial',18))\n",
    "label.pack(padx=20, pady=20)\n",
    "\n",
    "buttonfenetre=tk.Frame(root)\n",
    "button1= tk.Button(buttonfenetre, text=\"Click ici!\", command=fermer_fenetre())\n",
    "button1.grid(row=0 , column=0 , sticky=\"we\")\n",
    "canevasR=tk.Canvas(buttonfenetre, background=\"red\", width=50 , height=50)\n",
    "canevasR.grid(row=0 , column=1, sticky=\"we\")\n",
    "buttonfenetre.pack()\n",
    "canevasN=tk.Canvas(buttonfenetre, background=\"black\", width=50, height=50)\n",
    "canevasN.grid(row=1 , column=1, sticky=\"n\")\n",
    "canevasR.bind('<Button-1>', countclick)\n",
    "root.mainloop()\n",
    "\n"
   ]
  },
  {
   "cell_type": "markdown",
   "metadata": {},
   "source": [
    "Créer une unique fonction qui renvoie la couleur du canevas sur lequel on a double-cliqué.\n",
    "Afficher la couleur à la place du compteur précédent."
   ]
  },
  {
   "cell_type": "code",
   "execution_count": 6,
   "metadata": {},
   "outputs": [],
   "source": [
    "#Faire un canevas de taile 300x300 pour que ce soit lisible\n",
    "import tkinter as tk\n",
    "def fermer_fenetre():\n",
    "    return root.destroy\n",
    "\n",
    "\n",
    "cnt = 0\n",
    "def givecouleurR(event):\n",
    "    label.configure(text=\"C'est du rouge!\")\n",
    "    \n",
    "def givecouleurN(event):\n",
    "    label.configure(text=\"C'est du noir!\")\n",
    "\n",
    "root=tk.Tk()\n",
    "root.geometry(\"300x300\")\n",
    "root.title(\"J'apprends Tkinter \")\n",
    "label= tk.Label(root, text=\"J'adore Python ! \", font=('Arial',18))\n",
    "label.pack(padx=20, pady=20)\n",
    "\n",
    "buttonfenetre=tk.Frame(root)\n",
    "button1= tk.Button(buttonfenetre, text=\"Click ici!\", command=fermer_fenetre())\n",
    "button1.grid(row=0 , column=0 , sticky=\"we\")\n",
    "canevasR=tk.Canvas(buttonfenetre, background=\"red\", width=50 , height=50)\n",
    "canevasR.grid(row=0 , column=1, sticky=\"we\")\n",
    "buttonfenetre.pack()\n",
    "canevasN=tk.Canvas(buttonfenetre, background=\"black\", width=50, height=50)\n",
    "canevasN.grid(row=1 , column=1, sticky=\"n\")\n",
    "\n",
    "canevasR.bind('<Double-Button-1>', givecouleurR)\n",
    "canevasN.bind('<Double-Button-1>', givecouleurN)\n",
    "root.mainloop()\n",
    "\n"
   ]
  },
  {
   "cell_type": "markdown",
   "metadata": {},
   "source": [
    "REMARQUE : Attention à ne pas mettre deux `bind` différents qui se déclenchent \n",
    "sur une même action sinon seul le dernier sera réalisé.\n",
    "En effet, la variable `event` va être modifiée deux fois et seule sa dernière modification sera donc prise en compte."
   ]
  },
  {
   "cell_type": "markdown",
   "metadata": {},
   "source": [
    "Créer une nouvelle fenêtre qui permet de charger une image depuis un fichier en utilisant la fonction `charger(widg)`. \n",
    "Vous allez devoir passer un paramètre dans la fonction callback `charger`. On ne demande pas de comprendre le fonctionnement de la fonction `charger`."
   ]
  },
  {
   "cell_type": "code",
   "execution_count": 9,
   "metadata": {},
   "outputs": [
    {
     "name": "stdout",
     "output_type": "stream",
     "text": [
      "pyimage3\n"
     ]
    }
   ],
   "source": [
    "create=True\n",
    "\n",
    "def charger(widg):\n",
    "    global create\n",
    "    global photo\n",
    "    global img\n",
    "    global canvas\n",
    "    filename= filedialog.askopenfile(mode='rb', title='Choose a file')\n",
    "    img = pil.Image.open(filename)\n",
    "    photo = ImageTk.PhotoImage(img)\n",
    "    print(photo)\n",
    "    if create:    \n",
    "        canvas = tk.Canvas(widg, width = img.size[0], height = img.size[1])\n",
    "        canvas.create_image(0,0,anchor = tk.NW, image=photo)\n",
    "        canvas.pack()\n",
    "        create=False\n",
    "        \n",
    "    else:\n",
    "        canvas.pack_forget()\n",
    "        canvas = tk.Canvas(widg, width = img.size[0], height = img.size[1])\n",
    "        canvas.create_image(0,0,anchor = tk.NW, image=photo)\n",
    "        canvas.pack()\n",
    "root=tk.Tk()\n",
    "root.title('Image')\n",
    "img= charger(root)\n",
    "root.mainloop()"
   ]
  },
  {
   "attachments": {},
   "cell_type": "markdown",
   "metadata": {},
   "source": [
    "Faire une fenêtre qui :\n",
    "- Permet d'écrire dans une zone de texte\n",
    "- contient un label d'affichage\n",
    "- contient deux boutons, respectivement \"Bouton1\" et \"Bouton2\" permettant d'afficher dans le label le numéro du bouton sur lequel on a cliqué\n",
    "- contient un dernier bouton qui permet d'afficher dans le label le texte tapé dans la zone de texte"
   ]
  },
  {
   "cell_type": "code",
   "execution_count": 29,
   "metadata": {},
   "outputs": [],
   "source": [
    "root=tk.Tk()\n",
    "root.title(\"ooooh baby, i feel right, music sound sbetter with you\")\n",
    "root.geometry(\"500x500\")\n",
    "Script=tk.Text(root,height=5, font=(\"Arial\",18))\n",
    "Script.pack()\n",
    "label= tk.Label(root, text=\"label d'affichage askip\")\n",
    "label.pack()    \n",
    "def afficher1():\n",
    "    label.configure(text=\"boutton 1 clické !\")\n",
    "def afficher2():\n",
    "    label.configure(text=\"boutton 2 clické !\")\n",
    "bouton1=tk.Button(root,text=\"boutton1\",command=afficher1)\n",
    "bouton2=tk.Button(root,text=\"boutton2\",command=afficher2)\n",
    "bouton1.pack()\n",
    "bouton2.pack()\n",
    "def montrertext():\n",
    "    label.configure(text=Script.get(\"1.0\",\"end\"))\n",
    "bouttonshow= tk.Button(root, text=\"Show\", command=montrertext)\n",
    "bouttonshow.pack()\n",
    "root.mainloop()"
   ]
  }
 ],
 "metadata": {
  "kernelspec": {
   "display_name": "Python 3",
   "language": "python",
   "name": "python3"
  },
  "language_info": {
   "codemirror_mode": {
    "name": "ipython",
    "version": 3
   },
   "file_extension": ".py",
   "mimetype": "text/x-python",
   "name": "python",
   "nbconvert_exporter": "python",
   "pygments_lexer": "ipython3",
   "version": "3.11.4"
  }
 },
 "nbformat": 4,
 "nbformat_minor": 4
}
