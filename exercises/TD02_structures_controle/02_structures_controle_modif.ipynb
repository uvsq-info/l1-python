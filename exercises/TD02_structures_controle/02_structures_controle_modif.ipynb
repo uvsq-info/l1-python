{
 "cells": [
  {
   "cell_type": "markdown",
   "metadata": {
    "slideshow": {
     "slide_type": "slide"
    }
   },
   "source": [
    "# TD 2: Les structures de contrôle\n",
    "\n",
    "---\n",
    "\n",
    "## 0. Récupération des nouveaux documents\n",
    "\n",
    "\n",
    "Les sujets de TD ainsi que les supports de cours sont publiés en ligne au fur et à mesure sur l'espace github original [https://github.com/uvsq-info/l1-python](https://github.com/uvsq-info/l1-python). Au moment où vous avez fait le fork de cet espace sur votre espace personnel, il est probable que tous les contenus n'étaient pas présents. Pour compléter votre espace, deux solutions sont possibles:\n",
    "\n",
    "\n",
    "1. (solution à privilégier) aller sur la page du projet original [https://github.com/uvsq-info/l1-python](https://github.com/uvsq-info/l1-python), et cliquer sur le bouton vert `Code` en haut à droite. Choisir `download ZIP`, puis extraire l'ensemble des nouveaux fichiers vers votre projet personnel local. Vous pouvez ensuite sauvegarder ces ajouts dans votre espace github personnel en suivant la procédure habituelle.\n",
    "2. (solution qui présente des risques de conflits entre différentes versions d'un même document) en ligne de commande dans le terminal, en suivant la procédure de la section *Intégrer les mises à jour du projet original* du fichier [README.md](https://github.com/uvsq-info/l1-python/blob/master/README.md#int%C3%A9grer-les-mises-%C3%A0-jour-du-projet-original)\n"
   ]
  },
  {
   "cell_type": "markdown",
   "metadata": {
    "slideshow": {
     "slide_type": "slide"
    }
   },
   "source": [
    "---\n",
    "\n",
    "## 1. Premiers exercices avec les structures conditionnelles\n",
    "\n",
    "**Exercice 1:**\n",
    "\n",
    "1. Soit *num1 = 15* et *num2 = 5*. Ecrire un programme qui affiche *Factors!* si l'un des nombres est un facteur de l'autre (c'est-à-dire qu'il divise l'autre nombre). Si aucun des nombres n'est un facteur de l'autre, le programme n'affiche rien.\n",
    "2. Changer le code que vous avez écrit de telle sorte qu'il affiche toujours *Factors!* si un nombre est un facteur de l'autre, mais qui affiche aussi *Not factors!* si aucun des nombres n'est un facteur de l'autre."
   ]
  },
  {
   "cell_type": "code",
   "execution_count": 5,
   "metadata": {
    "slideshow": {
     "slide_type": "notes"
    }
   },
   "outputs": [
    {
     "name": "stdout",
     "output_type": "stream",
     "text": [
      "Factors!\n"
     ]
    }
   ],
   "source": [
    "num1=15\n",
    "num2=5\n",
    "if num1%num2==0 or num2%num1==0:\n",
    "    print(\"Factors!\")\n",
    "else:\n",
    "    print(\"Not factors!\")"
   ]
  },
  {
   "cell_type": "markdown",
   "metadata": {
    "slideshow": {
     "slide_type": "slide"
    }
   },
   "source": [
    "**Exercice 2:**\n",
    "    \n",
    "Soit *state = \"Georgia\"*. Ecrire un programme qui permet d'afficher un message spécifique en fonction de la variable *state* :  \n",
    "* \"School isn't cancelled.\" si nous sommes à New Jersey,  \n",
    "* \"School is postponed.\" si nous sommes à North Carolina,\n",
    "* \"School is cancelled!\" si nous sommes à Georgia,  \n",
    "* \"School's status is unknown\" si nous ne sommes pas dans un des trois états précédemment mentionnés."
   ]
  },
  {
   "cell_type": "code",
   "execution_count": 6,
   "metadata": {
    "slideshow": {
     "slide_type": "notes"
    }
   },
   "outputs": [
    {
     "name": "stdout",
     "output_type": "stream",
     "text": [
      "School is cancelled\n"
     ]
    }
   ],
   "source": [
    "state= \"Georgia\"\n",
    "if state==\"New Jersey\":\n",
    "    print(\"School isn't cancelled.\")\n",
    "if state==\"North Carolina\":\n",
    "    print(\"School is postponed\")\n",
    "if state==\"Georgia\":\n",
    "    print(\"School is cancelled\")\n",
    "else:\n",
    "    print(\"School status is unknown\")"
   ]
  },
  {
   "cell_type": "markdown",
   "metadata": {
    "slideshow": {
     "slide_type": "slide"
    }
   },
   "source": [
    "**Exercice 3:**\n",
    "\n",
    "Ecrire un programme pour découvrir le signe du zodiaque chinois pour une année donnée. Le signe du zodiaque chinois est basé sur un cycle de 12 ans et chaque année de ce cycle est représentée par un animal :\n",
    "* 0: monkey\n",
    "* 1: rooster\n",
    "* 2: dog\n",
    "* 3: pig\n",
    "* 4: rat\n",
    "* 5: fox\n",
    "* 6: tiger\n",
    "* 7: rabbit\n",
    "* 8: dragon\n",
    "* 9: snake\n",
    "* 10: horse\n",
    "* 11: sheep\n",
    "\n",
    "La valeur de l'année % 12 détermine le signe du zodiaque. Par exemple, 1900 est l'année du *rat* puisque 1900 % 12 est 4."
   ]
  },
  {
   "cell_type": "code",
   "execution_count": 6,
   "metadata": {
    "slideshow": {
     "slide_type": "notes"
    }
   },
   "outputs": [
    {
     "name": "stdout",
     "output_type": "stream",
     "text": [
      "rabbit\n"
     ]
    }
   ],
   "source": [
    "année=2023\n",
    "signe=année%12\n",
    "zodiac=[\"monkey\",\"rooster\",\"dog\",\"pig\",\"rat\",\"fox\",\"tiger\",\"rabbit\",\"dragon\",\"snake\",\"horse\",\"sheep\"]\n",
    "print(zodiac[signe])"
   ]
  },
  {
   "cell_type": "markdown",
   "metadata": {
    "slideshow": {
     "slide_type": "slide"
    }
   },
   "source": [
    "**Exercice 4:**\n",
    "\n",
    "Soit *temperature = -3.7* et *celsius = True*. *celsius* est une variable booléenne qui indique si la température est en Celsius; si c'est *False*, alors la température donnée est en Fahrenheit. Ecrire un premier programme en utilisant *if-else* seulement qui permet d'afficher *Freezing* si les valeurs données représentent une température très basse, et *Not freezing* si ce n'est pas le cas. En Celsius, on considère qu'il fait très froid lorsque la température est inférieure ou égale à 0 degré. En Fahrenheit, on considère qu'il fait très froid lorsque la température est inférieure ou égale à 32 degrés. Proposer une seconde solution en utilisant *if-elif-else* à ce même problème."
   ]
  },
  {
   "cell_type": "code",
   "execution_count": 17,
   "metadata": {
    "slideshow": {
     "slide_type": "notes"
    }
   },
   "outputs": [
    {
     "name": "stdout",
     "output_type": "stream",
     "text": [
      "Freezing\n"
     ]
    }
   ],
   "source": [
    "temperature= -3.7\n",
    "celsius = True\n",
    "if celsius:\n",
    "    if temperature<=0:\n",
    "        print('Freezing')\n",
    "    else:\n",
    "        print('Not freezing')\n",
    "else:\n",
    "    if temperature<=32:\n",
    "        print(\"Freezing\")\n",
    "    else:\n",
    "        print(\"Not freezing\")\n",
    "\n"
   ]
  },
  {
   "cell_type": "markdown",
   "metadata": {
    "slideshow": {
     "slide_type": "slide"
    }
   },
   "source": [
    "**Exercice 5:**\n",
    "    \n",
    "Ecrire un programme qui permet de déterminer si une année est bissextile ou non en utilisant une seule instruction *if-else*. Une année *A* est bissextile si *A* est divisible par 4. Elle ne l’est cependant pas si *A* est un multiple\n",
    "de 100, à moins que *A* ne soit multiple de 400.    "
   ]
  },
  {
   "cell_type": "code",
   "execution_count": 20,
   "metadata": {
    "slideshow": {
     "slide_type": "notes"
    }
   },
   "outputs": [
    {
     "name": "stdout",
     "output_type": "stream",
     "text": [
      "année non-bissextile\n"
     ]
    }
   ],
   "source": [
    "A=2023\n",
    "if A%4==0 and (A%100!=0 or A%400==0):\n",
    "    print(\"année bissextile\")\n",
    "else:\n",
    "    print(\"année non-bissextile\")"
   ]
  },
  {
   "cell_type": "markdown",
   "metadata": {},
   "source": [
    "write a program that shows \"hello\" if the number given n user  is a multiple of 5 else, it shows \"byebye\""
   ]
  },
  {
   "cell_type": "code",
   "execution_count": null,
   "metadata": {},
   "outputs": [],
   "source": [
    "n=input(\"give number\")\n",
    "if int(n)%5==0:\n",
    "    print(\"hello\")\n",
    "else:\n",
    "    print(\"bye bye\")"
   ]
  },
  {
   "cell_type": "markdown",
   "metadata": {},
   "source": [
    "ecrire un programme qui accepte 2 nombres et un operateur mathématiques et execute l'operation correspondante donné par utilisateur\n"
   ]
  },
  {
   "cell_type": "code",
   "execution_count": 4,
   "metadata": {},
   "outputs": [
    {
     "name": "stdout",
     "output_type": "stream",
     "text": [
      "8\n"
     ]
    }
   ],
   "source": [
    "number1=int(input(\"give number1\"))\n",
    "number2=int(input(\"give number 2\"))\n",
    "oper=input(\"give operator\")\n",
    "if oper==\"-\":\n",
    "    print(number1-number2)\n",
    "elif oper==\"+\":\n",
    "    print(number1+number2)\n",
    "elif oper==\"*\":\n",
    "    print(number1*number2)\n",
    "elif oper==\"/\":\n",
    "    print(number1/number2)\n",
    "elif oper==\"//\":\n",
    "    print(number1//number2)"
   ]
  },
  {
   "cell_type": "markdown",
   "metadata": {},
   "source": [
    "ecrire un programme qui accepte l'âge , le genre(M/F), nombre de jours et affiche le salaire.\n",
    "Si l'âge ne figure pas dans l'intervalle alors le programme affiche le mess suivant:\"entrez un âge approprié\""
   ]
  },
  {
   "cell_type": "code",
   "execution_count": 6,
   "metadata": {},
   "outputs": [
    {
     "name": "stdout",
     "output_type": "stream",
     "text": [
      "M\n",
      "280000\n"
     ]
    }
   ],
   "source": [
    "age=int(input(\"donnez age\"))\n",
    "genre=input(\"donnez genre(M/F)\")\n",
    "genre=genre.upper()\n",
    "print(genre)\n",
    "nbrjours=int(input(\"donnez nombre de jours\"))\n",
    "salaire=0\n",
    "if age>=18 and age<30:\n",
    "    if genre==\"M\":\n",
    "        salaire=700\n",
    "    else:\n",
    "        salaire=750\n",
    "elif age>=30 and age<=40:\n",
    "    if genre==\"M\":\n",
    "        salaire=800\n",
    "    else:\n",
    "        salaire=850\n",
    "else:\n",
    "    age=input(\"donnez age approprié\")\n",
    "print(salaire*nbrjours)\n",
    "\n",
    "\n"
   ]
  },
  {
   "cell_type": "markdown",
   "metadata": {},
   "source": [
    "---\n",
    "\n",
    "## 2. Premiers exercices avec les structures itératives\n",
    "\n",
    "**Exercice 6:**\n",
    "\n",
    "1. Ecrire un programme qui permet d'afficher tous les nombres entre 1 et 10 (bornes incluses).\n",
    "2. Ecrire un programme se limitant à la boucle *for* qui permet d'afficher tous les nombres pairs entre 1 et 20 (bornes incluses). Proposer une deuxième solution en incluant une structure conditionnelle."
   ]
  },
  {
   "cell_type": "code",
   "execution_count": 1,
   "metadata": {},
   "outputs": [
    {
     "name": "stdout",
     "output_type": "stream",
     "text": [
      "1\n",
      "2\n",
      "3\n",
      "4\n",
      "5\n",
      "6\n",
      "7\n",
      "8\n",
      "9\n",
      "10\n"
     ]
    }
   ],
   "source": [
    "for i in range (1,11):\n",
    "    print(i)"
   ]
  },
  {
   "cell_type": "code",
   "execution_count": 2,
   "metadata": {},
   "outputs": [
    {
     "name": "stdout",
     "output_type": "stream",
     "text": [
      "1\n",
      "3\n",
      "5\n",
      "7\n",
      "9\n",
      "11\n",
      "13\n",
      "15\n",
      "17\n",
      "19\n"
     ]
    }
   ],
   "source": [
    "for i in range (1,21,2):\n",
    "    print(i)"
   ]
  },
  {
   "cell_type": "code",
   "execution_count": 8,
   "metadata": {},
   "outputs": [
    {
     "name": "stdout",
     "output_type": "stream",
     "text": [
      "2\n",
      "4\n",
      "6\n",
      "8\n",
      "10\n",
      "12\n",
      "14\n",
      "16\n",
      "18\n",
      "20\n"
     ]
    }
   ],
   "source": [
    "for i in range (1,21):\n",
    "    if i%2==0:\n",
    "        print(i)"
   ]
  },
  {
   "cell_type": "code",
   "execution_count": null,
   "metadata": {},
   "outputs": [],
   "source": []
  },
  {
   "cell_type": "code",
   "execution_count": 9,
   "metadata": {},
   "outputs": [
    {
     "name": "stdout",
     "output_type": "stream",
     "text": [
      "[1, 2, 3, 4, 5, 6, 7, 8, 9, 10]\n"
     ]
    }
   ],
   "source": [
    "print([i for i in range (1,11)])"
   ]
  },
  {
   "cell_type": "markdown",
   "metadata": {},
   "source": [
    "**Exercice 7:**\n",
    "    \n",
    "1. Ecrire un programme qui demande à l'utilisateur de saisir *n* nombres, *n* étant choisi par l'utilisateur, puis d'afficher la moyenne de ces nombres.\n",
    "\n",
    "2. Même question, mais l'utilisateur ne choisit pas à l'avance le nombre *n*, la procédure s'arrête quand il saisit le nombre -1.\n"
   ]
  },
  {
   "cell_type": "code",
   "execution_count": 34,
   "metadata": {},
   "outputs": [
    {
     "name": "stdout",
     "output_type": "stream",
     "text": [
      "14.5\n"
     ]
    }
   ],
   "source": [
    "n=input(\"calcul de moyenne: combien de nombres?\")\n",
    "liste=[]\n",
    "moyenne=0\n",
    "for i in range (int(n)):\n",
    "    place=input(\"quel sera le nombre?\")\n",
    "    liste.append(float(place))\n",
    "for terme in liste:\n",
    "    moyenne=moyenne+terme\n",
    "moyenne=moyenne/len(liste)\n",
    "print(moyenne)"
   ]
  },
  {
   "cell_type": "code",
   "execution_count": 10,
   "metadata": {},
   "outputs": [
    {
     "name": "stdout",
     "output_type": "stream",
     "text": [
      "6.666666666666667\n"
     ]
    }
   ],
   "source": [
    "n=int(input(\"donnez nombre\"))\n",
    "x=0\n",
    "for i in range (1,n):\n",
    "    x+=int(input(\"nombre?\"))\n",
    "x/=n\n",
    "print(x)"
   ]
  },
  {
   "cell_type": "code",
   "execution_count": 21,
   "metadata": {},
   "outputs": [
    {
     "name": "stdout",
     "output_type": "stream",
     "text": [
      "7.4\n"
     ]
    }
   ],
   "source": [
    "x=0\n",
    "i=0\n",
    "n=0\n",
    "while n!=-1:\n",
    "    n=int(input(\"donnez nombre\"))\n",
    "    x+=n\n",
    "    i+=1\n",
    "moyenne=x/i\n",
    "print(moyenne)"
   ]
  },
  {
   "cell_type": "code",
   "execution_count": 35,
   "metadata": {},
   "outputs": [
    {
     "name": "stdout",
     "output_type": "stream",
     "text": [
      "4.125\n"
     ]
    }
   ],
   "source": [
    "liste=[]\n",
    "moyenne=0\n",
    "place=\"\"\n",
    "while place!=\"-1\":\n",
    "    place=input(\"quel sera le nombre?\")\n",
    "    liste.append(float(place))\n",
    "for terme in liste:\n",
    "    moyenne=moyenne+terme\n",
    "moyenne=moyenne/len(liste)\n",
    "print(moyenne)"
   ]
  },
  {
   "cell_type": "markdown",
   "metadata": {},
   "source": [
    "**Exercice 8:**\n",
    "\n",
    "Ecrire un programme qui permet de calculer le factoriel d'un nombre positif donné par l'utlisateur selon la formule suivante : \n",
    "n! = 1 x 2 x ... x n.  \n",
    "\n",
    "1. Une première version en utilisant la boucle *for*\n",
    "2. Une seconde version en utilisant la boucle *while*"
   ]
  },
  {
   "cell_type": "code",
   "execution_count": 37,
   "metadata": {},
   "outputs": [
    {
     "name": "stdout",
     "output_type": "stream",
     "text": [
      "24\n"
     ]
    }
   ],
   "source": [
    "n=input(\"nombre?\")\n",
    "n=int(n)\n",
    "factoriel=1\n",
    "for i in range (1,n+1):\n",
    "    factoriel=factoriel*i\n",
    "print(factoriel)"
   ]
  },
  {
   "cell_type": "code",
   "execution_count": 2,
   "metadata": {},
   "outputs": [
    {
     "name": "stdout",
     "output_type": "stream",
     "text": [
      "24\n"
     ]
    }
   ],
   "source": [
    "n=input(\"nombre?\")\n",
    "n=int(n)\n",
    "factoriel=1\n",
    "i=1\n",
    "while factoriel<=n:\n",
    "    factoriel*=i\n",
    "    i+=1\n",
    "print(factoriel)"
   ]
  },
  {
   "cell_type": "markdown",
   "metadata": {
    "slideshow": {
     "slide_type": "slide"
    }
   },
   "source": [
    "---\n",
    "\n",
    "## 3. Pour aller plus loin\n",
    "\n",
    "**Excercice 9:**\n",
    "\n",
    "Ecrire un programme qui permet de connaître le jour de naissance de l'utilisateur en posant cinq questions.\n",
    "Chaque question demande si le jour est dans l'un des cinq ensembles suivants :\n",
    "\n",
    "* Set 1: \\[1 3 5 7 9 11 13 15 17 19 21 23 25 27 29 31\\]\n",
    "* Set 2: \\[2 3 6 7 10 11 14 15 18 19 22 23 26 27 30 31\\]\n",
    "* Set 3: \\[4 5 6 7 12 13 14 15 20 21 22 23 28 29 30 31\\]\n",
    "* Set 4: \\[8 9 10 11 12 13 14 15 24 25 26 27 28 29 30 31\\]\n",
    "* Set 5: \\[16 17 18 19 20 21 22 23 24 25 26 27 28 29 30 31\\]\n",
    "    \n",
    "\n",
    "Le jour de naissance est la somme des premiers nombres dans les ensembles où le jour apparaît. Par exemple,\n",
    "si le jour de naissance est 19, il apparaît dans Set 1, Set 2 et Set 5. Les premiers chiffres de ces trois ensembles sont 1, 2 et 16. Leur somme est 19."
   ]
  },
  {
   "cell_type": "code",
   "execution_count": 44,
   "metadata": {
    "slideshow": {
     "slide_type": "notes"
    }
   },
   "outputs": [
    {
     "name": "stdout",
     "output_type": "stream",
     "text": [
      "19\n"
     ]
    }
   ],
   "source": [
    "set1=[1, 3, 5, 7, 9, 11, 13, 15, 17, 19, 21, 23, 25, 27, 29, 31]\n",
    "set2=[2 ,3 ,6 ,7 ,10 ,11 ,14 ,15 ,18 ,19 ,22 ,23 ,26 ,27 ,30, 31]\n",
    "set3= [4 ,5 ,6 ,7 ,12, 13 ,14 ,15 ,20 ,21 ,22 ,23 ,28 ,29 ,30 ,31]\n",
    "set4= [8 ,9 ,10 ,11 ,12 ,13 ,14 ,15 ,24 ,25 ,26 ,27 ,28 ,29 ,30 ,31]\n",
    "set5=[16 ,17 ,18 ,19 ,20 ,21 ,22 ,23 ,24 ,25 ,26 ,27 ,28 ,29 ,30 ,31]\n",
    "V=[set1,set2,set3,set4,set5]\n",
    "answer=[]\n",
    "final=0\n",
    "for i in range(5):\n",
    "    Quest=input(\"nombre dans ce set? :\"+str(V[i]))\n",
    "    answer.append(int(Quest))\n",
    "for i in range (len(answer)):\n",
    "    if answer[i]!=0:\n",
    "        final+=V[i][0]\n",
    "print(final)\n"
   ]
  },
  {
   "cell_type": "markdown",
   "metadata": {
    "slideshow": {
     "slide_type": "slide"
    }
   },
   "source": [
    "**Excercice 10:**\n",
    "\n",
    "Ecrire un programme qui permet de génèrer de manière aléatoire un nombre à deux chiffres, invite l'utilisateur à saisir un nombre à deux chiffres et détermine si l'utilisateur gagne selon les règles suivantes :\n",
    "* Si l'entrée de l'utilisateur correspond à la loterie (le nombre généré aléatoirement) dans l'ordre exact, la récompense est de 10 000€.\n",
    "* Sinon, si les deux chiffres entrés par l'utilisateur correspondent aux deux chiffres du numéro de loterie, la récompense est de 3 000€.\n",
    "* Sinon, si un chiffre dans l'entrée de l'utilisateur correspond à un chiffre dans le numéro de loterie, la récompense est de 1 000€.\n",
    "\n",
    "**Astuce :** Utiliser la fonction **random.randint(0, 99)** pour génèrer de manière aléatoire un nombre à deux chiffres. Cette fonction doit être accompagné par **import random** comme première instruction dans le code."
   ]
  },
  {
   "cell_type": "code",
   "execution_count": 70,
   "metadata": {
    "slideshow": {
     "slide_type": "notes"
    }
   },
   "outputs": [
    {
     "name": "stdout",
     "output_type": "stream",
     "text": [
      "la loterie était le nombre 48!\n",
      "votre réponse était le nombre 28!\n",
      "Vous n'avez qu'un seul chiffre correct! Vous gangez 1000€!\n"
     ]
    }
   ],
   "source": [
    "import random\n",
    "loterie=random.randint(10,99)\n",
    "guess=input(\"saisir un nombre pour tenter de ganger de l'argent!\")\n",
    "if int(guess)==loterie:\n",
    "    print(\"la loterie était le nombre \"+str(loterie)+\"!\")\n",
    "    print('votre réponse était le nombre '+str(guess)+\"!\")\n",
    "    print('bravo vous avez gangé 10 000€ !!!')\n",
    "elif (guess[0] in str(loterie)) and (guess[1] in str(loterie)):\n",
    "    print(\"la loterie était le nombre \"+str(loterie)+\"!\")\n",
    "    print('votre réponse était le nombre '+str(guess)+\"!\")\n",
    "    print(\"Vous répondu avec un nombre dont les chiffres sont exactes mais ne sont pas dans l'ordre de la loterie, Vous gagnez 3 000€ !!\")\n",
    "elif (guess[0] in str(loterie)) or (guess[1] in str(loterie)):\n",
    "    print(\"la loterie était le nombre \"+str(loterie)+\"!\")\n",
    "    print('votre réponse était le nombre '+str(guess)+\"!\")\n",
    "    print(\"Vous n'avez qu'un seul chiffre correct! Vous gangez 1000€!\")\n",
    "else:\n",
    "    print(\"la loterie était le nombre \"+str(loterie)+\"!\")\n",
    "    print('votre réponse était le nombre '+str(guess)+\"!\")\n",
    "    print(\"predu! reesayez!\")\n",
    "\n",
    "\n"
   ]
  },
  {
   "cell_type": "markdown",
   "metadata": {},
   "source": [
    "**Exercice 11:**\n",
    "    \n",
    "Ecrire un programme qui permet de calculer la somme des chiffres d'un entier *n* donné. Le nombre *n* doit être compris entre 10 et 20 (bornes incluses)."
   ]
  },
  {
   "cell_type": "code",
   "execution_count": 71,
   "metadata": {},
   "outputs": [
    {
     "name": "stdout",
     "output_type": "stream",
     "text": [
      "9\n"
     ]
    }
   ],
   "source": [
    "n=input(\"donnez nombre\")\n",
    "somme=0\n",
    "for i in range (len(n)):\n",
    "    somme+=int(n[i])\n",
    "print(somme)"
   ]
  },
  {
   "cell_type": "markdown",
   "metadata": {},
   "source": [
    "**Exercice 12:**\n",
    "\n",
    "1. Ecrire un programme qui permet de générer aléatoirement deux nombres entre 0 et 9, de calculer leurs différences (en valeur absolue), puis d'inviter l'utilisateur à répondre à la question suivante *que vaut abs(number1 - number2)?*. Le programme doit permettre à l'utilisateur de répondre plusieurs fois jusqu'à la saisie de la bonne réponse.\n",
    "2. Modifier le programme précédent de telle sorte qu'il génère cinq occurences à la suite invitant à répondre à la question précédente. A la fin, le programme affiche le nombre moyen de tentatives qu'il a fallu à l'utilisateur pour répondre à une question."
   ]
  },
  {
   "cell_type": "code",
   "execution_count": 75,
   "metadata": {
    "tags": []
   },
   "outputs": [
    {
     "name": "stdout",
     "output_type": "stream",
     "text": [
      "C'est ça! le resultat est 4!\n"
     ]
    }
   ],
   "source": [
    "n1=random.randint(0,9)\n",
    "n2=random.randint(0,9)\n",
    "result=n1-n2\n",
    "reponse=0\n",
    "if result<0:\n",
    "    result*=-1\n",
    "while int(reponse)!=result:\n",
    "    reponse=input('que vaut abs(number1-number2)?')\n",
    "print(\"C'est ça! le resultat est \"+str(result)+\"!\")"
   ]
  },
  {
   "cell_type": "code",
   "execution_count": 84,
   "metadata": {
    "tags": []
   },
   "outputs": [
    {
     "name": "stdout",
     "output_type": "stream",
     "text": [
      "C'est ça! le resultat est 5!\n",
      "Vous avez fait 2 tentatives avant de réussir!\n"
     ]
    }
   ],
   "source": [
    "n1=random.randint(0,9)\n",
    "n2=random.randint(0,9)\n",
    "result=n1-n2\n",
    "reponse=0\n",
    "lose=0\n",
    "if result<0:\n",
    "    result*=-1\n",
    "for i in range(5):\n",
    "\n",
    "    reponse=input('que vaut abs(number1-number2)?')\n",
    "    if int(reponse)!=result:\n",
    "          lose+=1\n",
    "    else:\n",
    "        print(\"C'est ça! le resultat est \"+str(result)+\"!\")\n",
    "        print(\"Vous avez fait \"+str(lose)+\" tentatives avant de réussir!\")\n",
    "        break \n",
    "if int(reponse)!=result:\n",
    "    print(\"temps mort! vous avez fait \"+ str(lose)+\"/5 !\")\n"
   ]
  },
  {
   "cell_type": "markdown",
   "metadata": {},
   "source": [
    "**Exercice 13:**\n",
    "\n",
    "Ecrire un programme qui permet de calculer le nombre de mots dans une phrase saisie par l'utilisateur."
   ]
  },
  {
   "cell_type": "code",
   "execution_count": 88,
   "metadata": {
    "tags": []
   },
   "outputs": [
    {
     "name": "stdout",
     "output_type": "stream",
     "text": [
      "Bonjour je m'appelle Sabri\n",
      "il y a 5 mots.\n"
     ]
    }
   ],
   "source": [
    "phrase=input(\"donnez votre phrase\")\n",
    "nbr_mots=1\n",
    "print(phrase)\n",
    "for i in range (len(phrase)):\n",
    "    if phrase[i]==\" \" or phrase[i]==\"'\":\n",
    "        nbr_mots+=1\n",
    "print(\"il y a \"+str(nbr_mots)+\" mots.\")\n"
   ]
  },
  {
   "cell_type": "markdown",
   "metadata": {
    "slideshow": {
     "slide_type": "slide"
    }
   },
   "source": [
    "---\n",
    "\n",
    "## 4. Pour s'entraîner\n",
    "\n",
    "**Exercice 14:**\n",
    "    \n",
    "Soit la variable my_input = \"zoophysiology\". Ecrire un script qui permet d'afficher l'un des messages suivants en fonction du nombre maximum de *o* consécutifs dans la variable *my_input*. Par exemple, le script doit afficher \"I like studying birds! I want to become an ornithologist!\" parce qu'il y a deux *o* consécutifs, même s'il y a aussi des *o* individual.\n",
    "Ignorer les *o* majuscules - recherchez que les *o* minuscules.\n",
    "\n",
    "* Si \"o\" apparaît trois fois ou plus de suite, afficher le message \"I like going to the zoo!\"  \n",
    "* Si \"o\" apparaît deux fois, afficher le message \"I like studying birds! I want to become an ornithologist!\"  \n",
    "* Si \"o\" apparaît une seule fois, afficher le message \"I like studying fish! I want to become an ichthyologist!\"  \n",
    "* Si \"o\" n'apparaît pas dans la variable *my_input*, afficher le message \"I miss going to the zoo!\"  \n",
    "\n",
    "**Astuce :** Utiliser l'opérateur **in** qui renvoie **True** si la première chaîne se trouve dans la deuxième chaîne. "
   ]
  },
  {
   "cell_type": "code",
   "execution_count": 92,
   "metadata": {
    "slideshow": {
     "slide_type": "notes"
    }
   },
   "outputs": [
    {
     "name": "stdout",
     "output_type": "stream",
     "text": [
      "i like studying birds! I want to become an ornithologist!\n"
     ]
    }
   ],
   "source": [
    "my_input=\"zoophysiology\"\n",
    "nombre_o=1\n",
    "if \"o\" in my_input :\n",
    "    for i in range (len(my_input)):\n",
    "        if my_input[i]==\"o\" and my_input[i+1]==\"o\":\n",
    "            nombre_o+=1\n",
    "else:\n",
    "    nombre_o=0\n",
    "    print('i miss going to the zoo!')\n",
    "\n",
    "if nombre_o>=3:\n",
    "    print(\"i like going to the zoo!\")\n",
    "elif nombre_o==2:\n",
    "    print(\"i like studying birds! I want to become an ornithologist!\")\n",
    "elif nombre_o==1:\n",
    "    print('i like studying fish! i want to be come an ichtyologist!') "
   ]
  },
  {
   "cell_type": "markdown",
   "metadata": {
    "slideshow": {
     "slide_type": "slide"
    }
   },
   "source": [
    "**Exercice 15:**\n",
    "    \n",
    "Créer quatre variables nommées *team_1* et *team_2*, représentant deux noms d'équipes, et *team_1_score* et *team_2_score*, représentant les scores de ces deux équipes. \n",
    "Une équipe gagne si son score est supérieur à l'autre score de l'autre équipe.\n",
    " \n",
    "Ecrire un premier script qui permet d'afficher les messages suivants selon les valeurs entrées, ceci en utilisant seulement les quatres variables créées :\n",
    "* Si une équipe bat l'autre, affichez: \"\\[winner\\] beat \\[loser\\] by \\[margin\\]\"\n",
    "* Si aucune des équipes n'a gagné, affichez: \"\\[team_1\\] played \\[team_2\\] and it was a tie\"\n",
    "\n",
    "Ecrire un deuxième script qui permet d'afficher les mêmes messages mais en ajoutant trois variables de plus :\n",
    "* La variable *winner* pour définir l'équipe gagnante  \n",
    "* La variable *loser* pour définier l'équipe perdante  \n",
    "* La variable *margin* pour définir la différence entre les deux scores \n"
   ]
  },
  {
   "cell_type": "code",
   "execution_count": 97,
   "metadata": {
    "slideshow": {
     "slide_type": "notes"
    }
   },
   "outputs": [
    {
     "name": "stdout",
     "output_type": "stream",
     "text": [
      "paris beat marseille by 2\n"
     ]
    }
   ],
   "source": [
    "team_1=\"paris\"\n",
    "team_2=\"marseille\"\n",
    "team_1_score=2\n",
    "team_2_score=0\n",
    "margin=team_2_score-team_1_score\n",
    "if margin<0:\n",
    "    margin=-margin\n",
    "if team_1_score>team_2_score:\n",
    "    print(str(team_1)+\" beat \"+str(team_2)+\" by \"+str(margin))\n",
    "elif team_1_score<team_2_score:\n",
    "    print(str(team_2)+\" beat \"+str(team_1)+\"by \"+str(margin))\n",
    "else:\n",
    "    print(str(team_1)+\" played \"+str(team_2)+\" and it was a tie\")"
   ]
  },
  {
   "cell_type": "code",
   "execution_count": 99,
   "metadata": {
    "slideshow": {
     "slide_type": "notes"
    }
   },
   "outputs": [
    {
     "name": "stdout",
     "output_type": "stream",
     "text": [
      "paris won by 2\n"
     ]
    }
   ],
   "source": [
    "team_1=\"paris\"\n",
    "team_2=\"marseille\"\n",
    "team_1_score=2\n",
    "team_2_score=0\n",
    "winner=\"\"\n",
    "loser=\"\"\n",
    "margin=team_2_score-team_1_score\n",
    "if margin<0:\n",
    "    margin=-margin\n",
    "if team_1_score>team_2_score:\n",
    "    winner=team_1\n",
    "    loser=team_2\n",
    "    print(str(winner)+\" won by \"+str(margin))\n",
    "elif team_1_score<team_2_score:\n",
    "    winner=team_2\n",
    "    loser=team_1\n",
    "    print(str(winner)+\" won by \"+str(margin))\n",
    "else:\n",
    "    print(str(team_1)+\" played \"+str(team_2)+\" and it was a tie\")"
   ]
  },
  {
   "cell_type": "markdown",
   "metadata": {
    "slideshow": {
     "slide_type": "slide"
    }
   },
   "source": [
    "**Exercice 16:**\n",
    "    \n",
    "L'Indice de Masse Corporelle (IMC) permet d'estimer le poids idéal en fonction de la taille. Son calcul correspond au poids en kilogrammes divisé par le carré de la taille en mètre (IMC = poids en kg/taille² en m). Le chiffre obtenu permet d'estimer la corpulence et éventuellement le surpoids ou l'obésité chez l'adulte, homme ou femme.\n",
    "L'interprétation de l'IMC pour les personnes de 16 ans et plus est la suivante :\n",
    "* Moins de 18.5: Underweight\n",
    "* Entre 18.5 et 24.9: Normal\n",
    "* Entre 25.0 et 29.9: Overweight\n",
    "* Plus que 30.0: Obese\n",
    "\n",
    "Ecrire un programme qui permet de saisir un poids en *pounds* et une taille en *inches*, de calculer et d'afficher l'IMC à deux valeurs après la virgule, et d'afficher l'interprétation la plus adéquate. Notez qu'un *pound* équivaut à 0,45359237 kilogrammes et qu'un *inch* équivaut à 0,0254 mètre.  \n",
    "\n",
    "**Astuce :** Pour afficher deux valeurs après la virgule, utilisez la fonction **format(nom_variable, \".2f\")**. Exemple : **print('La moyenne est :', format(moyenne, \".2f\"))**"
   ]
  },
  {
   "cell_type": "code",
   "execution_count": 1,
   "metadata": {
    "slideshow": {
     "slide_type": "notes"
    }
   },
   "outputs": [
    {
     "name": "stdout",
     "output_type": "stream",
     "text": [
      "Overweight\n"
     ]
    }
   ],
   "source": [
    "poids=input(\"donnez votre poids\")\n",
    "taille=input(\"donnez votre taille\")\n",
    "IMC=float(poids)/(float(taille))**2\n",
    "if IMC<18.5:\n",
    "    print(\"Underweight\")\n",
    "elif 18.5<IMC and IMC<24.9:\n",
    "    print(\"normal weight\")\n",
    "elif 25.0<IMC and IMC<29.9:\n",
    "    print(\"Overweight\")\n",
    "elif 30.0<IMC:\n",
    "    print(\"Obese\")\n"
   ]
  },
  {
   "cell_type": "markdown",
   "metadata": {},
   "source": [
    "**Exercice 17:**\n",
    "\n",
    "Ecrire un programme qui affiche un triangle d'étoiles de taille donnée, par exemple si on entre 6, le programme affiche:\n",
    "```\n",
    "*\n",
    "**\n",
    "***\n",
    "****\n",
    "*****\n",
    "******\n",
    "```"
   ]
  },
  {
   "cell_type": "code",
   "execution_count": 2,
   "metadata": {
    "tags": []
   },
   "outputs": [
    {
     "name": "stdout",
     "output_type": "stream",
     "text": [
      "*\n",
      "**\n",
      "***\n",
      "****\n",
      "*****\n"
     ]
    }
   ],
   "source": [
    "etoile=input(\"donnez nombre\")\n",
    "for i in range (1,(int(etoile)+1)):\n",
    "    print(\"*\"*i)"
   ]
  },
  {
   "cell_type": "markdown",
   "metadata": {},
   "source": [
    "**Exercice 18:**\n",
    "\n",
    "Même exercice mais cette fois la sortie est\n",
    "```\n",
    "     *\n",
    "    **         \n",
    "   ***\n",
    "  ****\n",
    " *****\n",
    "******\n",
    "```"
   ]
  },
  {
   "cell_type": "code",
   "execution_count": 4,
   "metadata": {
    "tags": []
   },
   "outputs": [
    {
     "name": "stdout",
     "output_type": "stream",
     "text": [
      "    *\n",
      "   **\n",
      "  ***\n",
      " ****\n",
      "*****\n"
     ]
    }
   ],
   "source": [
    "etoile=input(\"donnez nombre\")\n",
    "for i in range (1,(int(etoile)+1)):\n",
    "    print(\" \"*(int(etoile)-i)+\"*\"*i)"
   ]
  },
  {
   "cell_type": "markdown",
   "metadata": {},
   "source": [
    "**Exercice 19:**\n",
    "\n",
    "Ecrire un programme qui calcule, étant donné un entier *n* rentré par l'utilisateur, la plus grande puissance de *n* inférieure à un million."
   ]
  },
  {
   "cell_type": "code",
   "execution_count": 43,
   "metadata": {
    "tags": []
   },
   "outputs": [
    {
     "name": "stdout",
     "output_type": "stream",
     "text": [
      "200000\n"
     ]
    }
   ],
   "source": [
    "n=input(\"donnez nombre n\")\n",
    "resultat=0\n",
    "indice=0\n",
    "while resultat<1000000:\n",
    "    indice+=1\n",
    "    resultat=int(n)*indice\n",
    "print(indice)"
   ]
  },
  {
   "cell_type": "code",
   "execution_count": 11,
   "metadata": {},
   "outputs": [
    {
     "name": "stdout",
     "output_type": "stream",
     "text": [
      "mauvaise reponse\n",
      "mauvaise reponse\n",
      "mauvaise reponse\n",
      "mauvaise reponse\n",
      "mauvaise reponse\n",
      "vous avez fait  0 /5 réponses correctes\n",
      "4.04secondes\n"
     ]
    }
   ],
   "source": [
    "import random\n",
    "import time \n",
    "points=0\n",
    "nombre1=0\n",
    "nombre2=0\n",
    "temps1=time.time()\n",
    "for i in range (5):\n",
    "    nombre1=random.randint(0,9)\n",
    "    nombre2=random.randint(0,9)\n",
    "    if nombre1>=nombre2:\n",
    "        reponse=int(input(\"quel est\"+str(nombre1)+\"-\"+str(nombre2)+\"?\"))\n",
    "    else:\n",
    "        reponse=int(input(\"quel est\"+str(nombre2)+\"-\"+str(nombre1)+\"?\"))\n",
    "    if reponse==nombre1-nombre2 or reponse==nombre2-nombre1:\n",
    "        print(\"bonne reponse\")\n",
    "        points+=1\n",
    "    else:\n",
    "        print(\"mauvaise reponse\")\n",
    "temps2=time.time()\n",
    "print(\"vous avez fait \",points,\"/5 réponses correctes\")\n",
    "print(str(temps2-temps1)[0:4]+\"secondes\")"
   ]
  },
  {
   "cell_type": "code",
   "execution_count": 18,
   "metadata": {},
   "outputs": [
    {
     "name": "stdout",
     "output_type": "stream",
     "text": [
      "Faux\n",
      "Faux\n",
      "0\n",
      "9\n"
     ]
    }
   ],
   "source": [
    "import random\n",
    "import time\n",
    "count=0\n",
    "nbq=5\n",
    "correct=0\n",
    "t1=time.time()\n",
    "confirm=\"Y\"\n",
    "while confirm==\"Y\":\n",
    "    nb1=random.randint(0,9)\n",
    "    nb2=random.randint(0,9)\n",
    "    if nb1<nb2:\n",
    "        nb1,nb2=nb2,nb1\n",
    "    R=int(input(\"resultat de\"+str(nb1)+\"-\"+str(nb2)+\"?\"))\n",
    "    if nb1-nb2==R:\n",
    "        print(\"bien\")\n",
    "        correct+=1\n",
    "    else:\n",
    "        print(\"Faux\")\n",
    "    count+=1\n",
    "    confirm=input(\"voulez vous continuer? taper: 'y' ou 'Y'\").upper()\n",
    "t2=time.time()\n",
    "print(correct)\n",
    "print(int(t2-t1))\n"
   ]
  },
  {
   "cell_type": "code",
   "execution_count": 26,
   "metadata": {},
   "outputs": [
    {
     "name": "stdout",
     "output_type": "stream",
     "text": [
      "100 102 105 108 110 114 115 120 125 126 \n",
      "\n",
      "130 132 135 138 140 144 145 150 155 156 \n",
      "\n",
      "160 162 165 168 170 174 175 180 185 186 \n",
      "\n",
      "190 192 195 198 200 204 205 210 215 216 \n",
      "\n",
      "220 222 225 228 230 234 235 240 245 246 \n",
      "\n",
      "250 252 255 258 260 264 265 270 275 276 \n",
      "\n",
      "280 282 285 288 290 294 295 300 305 306 \n",
      "\n",
      "310 312 315 318 320 324 325 330 335 336 \n",
      "\n",
      "340 342 345 348 350 354 355 360 365 366 \n",
      "\n",
      "370 372 375 378 380 384 385 390 395 396 \n",
      "\n",
      "400 402 405 408 410 414 415 420 425 426 \n",
      "\n",
      "430 432 435 438 440 444 445 450 455 456 \n",
      "\n",
      "460 462 465 468 470 474 475 480 485 486 \n",
      "\n",
      "490 492 495 498 500 504 505 510 515 516 \n",
      "\n",
      "520 522 525 528 530 534 535 540 545 546 \n",
      "\n",
      "550 552 555 558 560 564 565 570 575 576 \n",
      "\n",
      "580 582 585 588 590 594 595 600 605 606 \n",
      "\n",
      "610 612 615 618 620 624 625 630 635 636 \n",
      "\n",
      "640 642 645 648 650 654 655 660 665 666 \n",
      "\n",
      "670 672 675 678 680 684 685 690 695 696 \n",
      "\n",
      "700 702 705 708 710 714 715 720 725 726 \n",
      "\n",
      "730 732 735 738 740 744 745 750 755 756 \n",
      "\n",
      "760 762 765 768 770 774 775 780 785 786 \n",
      "\n",
      "790 792 795 798 800 804 805 810 815 816 \n",
      "\n",
      "820 822 825 828 830 834 835 840 845 846 \n",
      "\n",
      "850 852 855 858 860 864 865 870 875 876 \n",
      "\n",
      "880 882 885 888 890 894 895 900 905 906 \n",
      "\n",
      "910 912 915 918 920 924 925 930 935 936 \n",
      "\n",
      "940 942 945 948 950 954 955 960 965 966 \n",
      "\n",
      "970 972 975 978 980 984 985 990 995 996 \n",
      "\n",
      "1000 "
     ]
    }
   ],
   "source": [
    "count=0\n",
    "for j in range(100,1001):\n",
    "    if j%5==0 or j%6==0:\n",
    "        print(j,end=\" \")\n",
    "        count+=1\n",
    "    if count==10:\n",
    "        print(\"\\n\")\n",
    "        count=0"
   ]
  },
  {
   "cell_type": "code",
   "execution_count": null,
   "metadata": {},
   "outputs": [],
   "source": [
    "for n in range(100,1001):\n",
    "    if n%5==0 or n%6==0:\n",
    "        print(n,end=\" \")\n",
    "        "
   ]
  },
  {
   "cell_type": "code",
   "execution_count": 28,
   "metadata": {},
   "outputs": [
    {
     "name": "stdout",
     "output_type": "stream",
     "text": [
      "gagné\n",
      "gagné\n"
     ]
    }
   ],
   "source": [
    "import random\n",
    "won=0\n",
    "while won<2 and won>-2:\n",
    "    ordi=random.randint(0,2)\n",
    "    user=int(input(\"choisissez 0,1 ou 2\"))\n",
    "    if user==0:\n",
    "        if ordi==0:\n",
    "            print(\"match nul\")\n",
    "        elif ordi==1:\n",
    "            won-=1\n",
    "            print(\"perdu\")\n",
    "        elif ordi==2:\n",
    "            won+=1\n",
    "            print(\"gagné\")\n",
    "    elif user==1:\n",
    "        if ordi==0:\n",
    "            won+=1\n",
    "            print(\"gagné\")\n",
    "        elif ordi==1:\n",
    "            print(\"match nul\")\n",
    "        elif ordi==2:\n",
    "            won-=1\n",
    "            print(\"perdu\")\n",
    "    elif user==2:\n",
    "        if ordi==0:\n",
    "            won-=1\n",
    "            print(\"perdu\")\n",
    "        elif ordi==1:\n",
    "            won+=1\n",
    "            print(\"gagné\")\n",
    "        elif ordi==2:\n",
    "            print(\"match nul\")\n"
   ]
  },
  {
   "cell_type": "code",
   "execution_count": 45,
   "metadata": {},
   "outputs": [
    {
     "name": "stdout",
     "output_type": "stream",
     "text": [
      "password non valide\n"
     ]
    }
   ],
   "source": [
    "import string\n",
    "import re \n",
    "alph=0\n",
    "ALPH=0\n",
    "tags=0\n",
    "num=0\n",
    "password=input(\"entrez un mot de passe\")\n",
    "if len(password)>=6 and len(password)<=16:\n",
    "    for i in range(len(password)):\n",
    "        if re.search(str(password[i]),(string.ascii_lowercase))!=None:\n",
    "            alph+=1\n",
    "        elif re.search(str(password[i]),(string.ascii_uppercase))!=None:\n",
    "            ALPH+=1\n",
    "        elif i== re.search(str(password[i]),\"0123456789\")!=None:\n",
    "            num+=1\n",
    "        elif re.search(str(password[i]),\"&#@\")!=None:\n",
    "            tags+=1\n",
    "    if alph>=1 and ALPH>=1 and tags>=1:\n",
    "        print(\"password valide\")\n",
    "    else:\n",
    "        print(\"password non valide\")\n",
    "else:\n",
    "    print(\"password non valide\")\n",
    "\n",
    "        "
   ]
  },
  {
   "cell_type": "code",
   "execution_count": 43,
   "metadata": {},
   "outputs": [
    {
     "name": "stdout",
     "output_type": "stream",
     "text": [
      "<re.Match object; span=(0, 1), match='h'>\n"
     ]
    }
   ],
   "source": [
    "host=\"hello\"\n",
    "print(re.search(\"h\",host))"
   ]
  },
  {
   "cell_type": "code",
   "execution_count": 47,
   "metadata": {},
   "outputs": [
    {
     "name": "stdout",
     "output_type": "stream",
     "text": [
      "password valide\n"
     ]
    }
   ],
   "source": [
    "import re\n",
    "def valide(passw):\n",
    "    if (6<=len(passw)<=16) and re.search(\"[a-z]\",passw) and re.search(\"[A-Z]\",passw) and re.search(\"[0-9]\",passw) and re.search(\"[#@$]\",passw):\n",
    "        return True\n",
    "    else:\n",
    "        return False\n",
    "x=input(\"donner password\")\n",
    "if valide(x):\n",
    "    print(\"password valide\")\n",
    "else:\n",
    "    print(\"password invalide\")"
   ]
  },
  {
   "cell_type": "code",
   "execution_count": null,
   "metadata": {},
   "outputs": [],
   "source": []
  }
 ],
 "metadata": {
  "celltoolbar": "Diaporama",
  "kernelspec": {
   "display_name": "Python 3",
   "language": "python",
   "name": "python3"
  },
  "language_info": {
   "codemirror_mode": {
    "name": "ipython",
    "version": 3
   },
   "file_extension": ".py",
   "mimetype": "text/x-python",
   "name": "python",
   "nbconvert_exporter": "python",
   "pygments_lexer": "ipython3",
   "version": "3.11.4"
  }
 },
 "nbformat": 4,
 "nbformat_minor": 4
}
