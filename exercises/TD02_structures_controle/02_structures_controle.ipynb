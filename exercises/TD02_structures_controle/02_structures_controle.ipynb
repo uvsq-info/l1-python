{
 "cells": [
  {
   "cell_type": "markdown",
   "metadata": {
    "slideshow": {
     "slide_type": "slide"
    }
   },
   "source": [
    "# TD 2: Les structures de contrôle\n",
    "\n",
    "---\n",
    "\n",
    "## 0. Récupération des nouveaux documents\n",
    "\n",
    "\n",
    "Les sujets de TD ainsi que les supports de cours sont publiés en ligne au fur et à mesure sur l'espace github original [https://github.com/uvsq-info/l1-python](https://github.com/uvsq-info/l1-python). Au moment où vous avez fait le fork de cet espace sur votre espace personnel, il est probable que tous les contenus n'étaient pas présents. Pour compléter votre espace, deux solutions sont possibles:\n",
    "\n",
    "\n",
    "1. (solution à privilégier) aller sur la page du projet original [https://github.com/uvsq-info/l1-python](https://github.com/uvsq-info/l1-python), et cliquer sur le bouton vert `Code` en haut à droite. Choisir `download ZIP`, puis extraire l'ensemble des nouveaux fichiers vers votre projet personnel local. Vous pouvez ensuite sauvegarder ces ajouts dans votre espace github personnel en suivant la procédure habituelle.\n",
    "2. (solution qui présente des risques de conflits entre différentes versions d'un même document) en ligne de commande dans le terminal, en suivant la procédure de la section *Intégrer les mises à jour du projet original* du fichier [README.md](https://github.com/uvsq-info/l1-python/blob/master/README.md#int%C3%A9grer-les-mises-%C3%A0-jour-du-projet-original)\n"
   ]
  },
  {
   "cell_type": "markdown",
   "metadata": {
    "slideshow": {
     "slide_type": "slide"
    }
   },
   "source": [
    "---\n",
    "\n",
    "## 1. Premiers exercices avec les structures conditionnelles\n",
    "\n",
    "**Exercice 1:**\n",
    "\n",
    "1. Soit *num1 = 15* et *num2 = 5*. Ecrire un programme qui affiche *Factors!* si l'un des nombres est un facteur de l'autre (c'est-à-dire qu'il divise l'autre nombre). Si aucun des nombres n'est un facteur de l'autre, le programme n'affiche rien.\n",
    "2. Changer le code que vous avez écrit de telle sorte qu'il affiche toujours *Factors!* si un nombre est un facteur de l'autre, mais qui affiche aussi *Not factors!* si aucun des nombres n'est un facteur de l'autre."
   ]
  },
  {
   "cell_type": "code",
   "execution_count": 15,
   "metadata": {
    "slideshow": {
     "slide_type": "notes"
    }
   },
   "outputs": [
    {
     "name": "stdout",
     "output_type": "stream",
     "text": [
      "Factors!\n"
     ]
    }
   ],
   "source": [
    "num1=5\n",
    "num2=15\n",
    "if num1%num2 == 0 or num2%num1 == 0:\n",
    "    print(\"Factors!\") \n",
    "else:\n",
    "    print(\"Not Factors!\")"
   ]
  },
  {
   "cell_type": "markdown",
   "metadata": {
    "slideshow": {
     "slide_type": "slide"
    }
   },
   "source": [
    "**Exercice 2:**\n",
    "    \n",
    "Soit *state = \"Georgia\"*. Ecrire un programme qui permet d'afficher un message spécifique en fonction de la variable *state* :  \n",
    "* \"School isn't cancelled.\" si nous sommes à New Jersey,  \n",
    "* \"School is postponed.\" si nous sommes à North Carolina,\n",
    "* \"School is cancelled!\" si nous sommes à Georgia,  \n",
    "* \"School's status is unknown\" si nous ne sommes pas dans un des trois états précédemment mentionnés."
   ]
  },
  {
   "cell_type": "code",
   "execution_count": null,
   "metadata": {
    "slideshow": {
     "slide_type": "notes"
    }
   },
   "outputs": [
    {
     "name": "stdout",
     "output_type": "stream",
     "text": [
      "School is cancelled\n"
     ]
    }
   ],
   "source": [
    "state = input(\"Donne moi ton pays d'études\")\n",
    "\n",
    "if state == \"Georgia\":\n",
    "    print(\"School is cancelled, have a good day ! \")\n",
    "elif state == \"New Jersey\":\n",
    "    print(\"School isn't cancelled !\")\n",
    "elif state == \"North Carolina\":\n",
    "    print(\"School is postponed !\")\n",
    "else:\n",
    "    print(\"School status is unknown, please call the 164935 to get more informations.\")"
   ]
  },
  {
   "cell_type": "markdown",
   "metadata": {
    "slideshow": {
     "slide_type": "slide"
    }
   },
   "source": [
    "**Exercice 3:**\n",
    "\n",
    "Ecrire un programme pour découvrir le signe du zodiaque chinois pour une année donnée. Le signe du zodiaque chinois est basé sur un cycle de 12 ans et chaque année de ce cycle est représentée par un animal :\n",
    "* 0: monkey\n",
    "* 1: rooster\n",
    "* 2: dog\n",
    "* 3: pig\n",
    "* 4: rat\n",
    "* 5: ox\n",
    "* 6: tiger\n",
    "* 7: rabbit\n",
    "* 8: dragon\n",
    "* 9: snake\n",
    "* 10: horse\n",
    "* 11: sheep\n",
    "\n",
    "La valeur de l'année % 12 détermine le signe du zodiaque. Par exemple, 1900 est l'année du *rat* puisque 1900 % 12 est 4."
   ]
  },
  {
   "cell_type": "code",
   "execution_count": null,
   "metadata": {
    "slideshow": {
     "slide_type": "notes"
    }
   },
   "outputs": [
    {
     "name": "stdout",
     "output_type": "stream",
     "text": [
      "Ox\n"
     ]
    }
   ],
   "source": [
    "x = int(input(\"Quelle est ta date de naissance ?\"))%12\n",
    "\n",
    "if x == 0:\n",
    "    print(\"You are the Monkey\")\n",
    "elif x == 1:\n",
    "    print(\"You are the Rooster\")\n",
    "elif x == 2:\n",
    "    print(\"You are the Dog\")\n",
    "elif x == 3:\n",
    "    print(\"You are the Pig\")\n",
    "elif x == 4:\n",
    "    print(\"You are the Rat\")\n",
    "elif x == 5:\n",
    "    print(\"You are the Ox\")\n",
    "elif x == 6:\n",
    "    print(\"You are the Tiger\")\n",
    "elif x == 7:\n",
    "    print(\"You are the Rabbit\")\n",
    "elif x == 8:\n",
    "    print(\"You are the Dragon\")\n",
    "elif x == 9:\n",
    "    print(\"You are the Snake\")\n",
    "elif x == 10:\n",
    "    print(\"You are the Horse\")\n",
    "elif x == 11:\n",
    "    print(\"You are the Sheep\")"
   ]
  },
  {
   "cell_type": "markdown",
   "metadata": {
    "slideshow": {
     "slide_type": "slide"
    }
   },
   "source": [
    "**Exercice 4:**\n",
    "\n",
    "Soit *temperature = -3.7* et *celsius = True*. *celsius* est une variable booléenne qui indique si la température est en Celsius; si c'est *False*, alors la température donnée est en Fahrenheit. Ecrire un premier programme en utilisant *if-else* seulement qui permet d'afficher *Freezing* si les valeurs données représentent une température très basse, et *Not freezing* si ce n'est pas le cas. En Celsius, on considère qu'il fait très froid lorsque la température est inférieure ou égale à 0 degré. En Fahrenheit, on considère qu'il fait très froid lorsque la température est inférieure ou égale à 32 degrés. Proposer une seconde solution en utilisant *if-elif-else* à ce même problème."
   ]
  },
  {
   "cell_type": "code",
   "execution_count": null,
   "metadata": {
    "slideshow": {
     "slide_type": "notes"
    }
   },
   "outputs": [
    {
     "name": "stdout",
     "output_type": "stream",
     "text": [
      "Freezing!\n"
     ]
    }
   ],
   "source": [
    "temperature = -3.7\n",
    "celsius = True\n",
    "if temperature <= 0 and celsius or temperature <= 32 and not(celsius):\n",
    "    print(\"Freezing!\")\n",
    "else:\n",
    "    print(\"Not freezing!\")"
   ]
  },
  {
   "cell_type": "markdown",
   "metadata": {
    "slideshow": {
     "slide_type": "slide"
    }
   },
   "source": [
    "**Exercice 5:**\n",
    "    \n",
    "Ecrire un programme qui permet de déterminer si une année est bissextile ou non en utilisant une seule instruction *if-else*. Une année *A* est bissextile si *A* est divisible par 4. Elle ne l’est cependant pas si *A* est un multiple\n",
    "de 100, à moins que *A* ne soit multiple de 400.    "
   ]
  },
  {
   "cell_type": "code",
   "execution_count": null,
   "metadata": {
    "slideshow": {
     "slide_type": "notes"
    }
   },
   "outputs": [
    {
     "name": "stdout",
     "output_type": "stream",
     "text": [
      "2004 est une année bissextile!\n",
      "2004 est bissextile\n"
     ]
    }
   ],
   "source": [
    "annee = int(input(\"Entrez l annee a verifier:\"))\n",
    "\n",
    "if(annee%4==0 and annee%100!=0 or annee%400==0):\n",
    "    print(annee,\"est une année bissextile!\")\n",
    "else:\n",
    "    print(annee,\"n'est pas une année bissextile!\") \n",
    " \n",
    "if annee%100 == 0 or annee%4 != 0 and annee%400 != 0:\n",
    "    print(annee,\"n'est pas bissextile\")\n",
    "else:\n",
    "    print(annee,\"est bissextile\")"
   ]
  },
  {
   "cell_type": "markdown",
   "metadata": {},
   "source": [
    "---\n",
    "\n",
    "## 2. Premiers exercices avec les structures itératives\n",
    "\n",
    "**Exercice 6:**\n",
    "\n",
    "1. Ecrire un programme qui permet d'afficher tous les nombres entre 1 et 10 (bornes incluses).\n",
    "2. Ecrire un programme se limitant à la boucle *for* qui permet d'afficher tous les nombres pairs entre 1 et 20 (bornes incluses). Proposer une deuxième solution en incluant une structure conditionnelle."
   ]
  },
  {
   "cell_type": "code",
   "execution_count": null,
   "metadata": {},
   "outputs": [
    {
     "name": "stdout",
     "output_type": "stream",
     "text": [
      "1\n",
      "2\n",
      "3\n",
      "4\n",
      "5\n",
      "6\n",
      "7\n",
      "8\n",
      "9\n",
      "10\n",
      "fin question 1\n",
      "2\n",
      "4\n",
      "6\n",
      "8\n",
      "10\n",
      "12\n",
      "14\n",
      "16\n",
      "18\n",
      "20\n",
      "fin question 2\n",
      "2\n",
      "4\n",
      "6\n",
      "8\n",
      "10\n",
      "12\n",
      "14\n",
      "16\n",
      "18\n",
      "20\n",
      "fin question 2 part2\n"
     ]
    }
   ],
   "source": [
    "for j in range(1,11):\n",
    "    print(j)\n",
    "print(\"fin question 1\")\n",
    "\n",
    "for k in range(2,21,2):\n",
    "    print(k)\n",
    "print(\"fin question 2\")\n",
    "\n",
    "for i in range(1,21):\n",
    "    if i%2==0:\n",
    "        print(i)\n",
    "print(\"fin question 2 part2\")\n"
   ]
  },
  {
   "cell_type": "markdown",
   "metadata": {},
   "source": [
    "**Exercice 7:**\n",
    "    \n",
    "1. Ecrire un programme qui demande à l'utilisateur de saisir *n* nombres, *n* étant choisi par l'utilisateur, puis d'afficher la moyenne de ces nombres.\n",
    "\n",
    "2. Même question, mais l'utilisateur ne choisit pas à l'avance le nombre *n*, la procédure s'arrête quand il saisit le nombre -1.\n"
   ]
  },
  {
   "cell_type": "code",
   "execution_count": null,
   "metadata": {},
   "outputs": [
    {
     "name": "stdout",
     "output_type": "stream",
     "text": [
      "La moyenne de ces 2 valeurs est 3.5\n"
     ]
    }
   ],
   "source": [
    "tot = 0\n",
    "x = int(input(\"Combien de nombre tu as a donner ?\"))\n",
    "for i in range(0,x):\n",
    "    tot += float(input(\"Nombre\"))\n",
    "    \n",
    "print(\"La moyenne de ces\",x,\"valeurs est\",tot/x)\n"
   ]
  },
  {
   "cell_type": "code",
   "execution_count": null,
   "metadata": {},
   "outputs": [],
   "source": [
    "S,a,i=0,0,0\n",
    "while a != -1:\n",
    "    a = int(input(\"Entrez votre nombre \"+str(i+1)))\n",
    "    if a!= -1:\n",
    "        S+=a\n",
    "        i+=1\n",
    "if i != 0:\n",
    "    print(\"la moyennes des\",i, 'nombres données est égale à',S/i)\n",
    "\n",
    "\n",
    "# ou\n",
    "\n",
    "S,a,i=0,0,0\n",
    "while True:\n",
    "    a = int(input(\"Entrez votre nombre \"+str(i+1)))\n",
    "    if a == -1:\n",
    "        break\n",
    "    S+=a\n",
    "    i+=1\n",
    "if i != 0:\n",
    "    print(\"la moyennes des\",i, 'nombres données est égale à',S/i)\n",
    "\n"
   ]
  },
  {
   "cell_type": "markdown",
   "metadata": {},
   "source": [
    "**Exercice 8:**\n",
    "\n",
    "Ecrire un programme qui permet de calculer le factoriel d'un nombre positif donné par l'utlisateur selon la formule suivante : \n",
    "n! = 1 x 2 x ... x n.  \n",
    "\n",
    "1. Une première version en utilisant la boucle *for*\n",
    "2. Une seconde version en utilisant la boucle *while*"
   ]
  },
  {
   "cell_type": "code",
   "execution_count": null,
   "metadata": {},
   "outputs": [
    {
     "name": "stdout",
     "output_type": "stream",
     "text": [
      "le factoriel de 5 est = 120\n"
     ]
    }
   ],
   "source": [
    "x = int(input(\"Entrez un nombre pour le calcul de son factoriel\"))\n",
    "n = 1\n",
    "if x >= 0:\n",
    "    for i in range (1,x+1):\n",
    "        n = i * n\n",
    "    print(\"le factoriel de\",x,'est =',n)\n",
    "else:\n",
    "    print(\"votre nombre doit être supérieur à 0\")"
   ]
  },
  {
   "cell_type": "code",
   "execution_count": null,
   "metadata": {},
   "outputs": [
    {
     "name": "stdout",
     "output_type": "stream",
     "text": [
      "le factoriel de 5 est = 120\n"
     ]
    }
   ],
   "source": [
    "x = int(input(\"Entrez un nombre pour le calcul de son factoriel\"))\n",
    "z = 0\n",
    "n = 1\n",
    "\n",
    "while z!= x :\n",
    "    z = z + 1\n",
    "    n = n * z\n",
    "print(\"le factoriel de\",x, \"est =\",n)"
   ]
  },
  {
   "cell_type": "markdown",
   "metadata": {
    "slideshow": {
     "slide_type": "slide"
    }
   },
   "source": [
    "---\n",
    "\n",
    "## 3. Pour aller plus loin\n",
    "\n",
    "**Excercice 9:**\n",
    "\n",
    "Ecrire un programme qui permet de connaître le jour de naissance de l'utilisateur en posant cinq questions.\n",
    "Chaque question demande si le jour est dans l'un des cinq ensembles suivants :\n",
    "\n",
    "* Set 1: \\[1 3 5 7 9 11 13 15 17 19 21 23 25 27 29 31\\]\n",
    "* Set 2: \\[2 3 6 7 10 11 14 15 18 19 22 23 26 27 30 31\\]\n",
    "* Set 3: \\[4 5 6 7 12 13 14 15 20 21 22 23 28 29 30 31\\]\n",
    "* Set 4: \\[8 9 10 11 12 13 14 15 24 25 26 27 28 29 30 31\\]\n",
    "* Set 5: \\[16 17 18 19 20 21 22 23 24 25 26 27 28 29 30 31\\]\n",
    "    \n",
    "\n",
    "Le jour de naissance est la somme des premiers nombres dans les ensembles où le jour apparaît. Par exemple,\n",
    "si le jour de naissance est 19, il apparaît dans Set 1, Set 2 et Set 5. Les premiers chiffres de ces trois ensembles sont 1, 2 et 16. Leur somme est 19."
   ]
  },
  {
   "cell_type": "code",
   "execution_count": null,
   "metadata": {
    "slideshow": {
     "slide_type": "notes"
    }
   },
   "outputs": [
    {
     "name": "stdout",
     "output_type": "stream",
     "text": [
      "Est-ce que ta date de naissance est comprise dans la liste [1 3 5 7 9 11 13 15 17 19 21 23 25 27 29 31] ?\n",
      "Est-ce que ta date de naissance est comprise dans la liste [2 3 6 7 10 11 14 15 18 19 22 23 26 27 30 31] ?\n",
      "Est-ce que ta date de naissance est comprise dans la liste [4 5 6 7 12 13 14 15 20 21 22 23 28 29 30 31] ?\n",
      "Est-ce que ta date de naissance est comprise dans la liste [8 9 10 11 12 13 14 15 24 25 26 27 28 29 30 31] ?\n",
      "Est-ce que ta date de naissance est comprise dans la liste [16 17 18 19 20 21 22 23 24 25 26 27 28 29 30 31] ?\n",
      "D'après mes calculs, je pense que ta date de naissance est le 9\n"
     ]
    }
   ],
   "source": [
    "set1 = \"[1 3 5 7 9 11 13 15 17 19 21 23 25 27 29 31]\"\n",
    "set2 = \"[2 3 6 7 10 11 14 15 18 19 22 23 26 27 30 31]\"\n",
    "set3 = \"[4 5 6 7 12 13 14 15 20 21 22 23 28 29 30 31]\"\n",
    "set4 = \"[8 9 10 11 12 13 14 15 24 25 26 27 28 29 30 31]\"\n",
    "set5 = \"[16 17 18 19 20 21 22 23 24 25 26 27 28 29 30 31]\"\n",
    "x = 0\n",
    "b = 1\n",
    "for i in (set1,set2,set3,set4,set5):\n",
    "    print(\"Est-ce que ta date de naissance est comprise dans la liste\",i,\"?\")\n",
    "    a = input(\"Dit oui ou non\")\n",
    "    if a == \"oui\":\n",
    "         x = x + b\n",
    "    \"\"\"\n",
    "         print (\"D'accord\")\n",
    "    elif a == \"non\":\n",
    "        print (\"D'accord\")\n",
    "    else :\n",
    "        print (\"Nous ne comprenons pas ce que tu as écrit,\\nRedémarre le programme.\")\n",
    "        break\n",
    "    \"\"\"\n",
    "    b = b * 2\n",
    "print (\"D'après mes calculs, je pense que ta date de naissance est le\",x)"
   ]
  },
  {
   "cell_type": "markdown",
   "metadata": {
    "slideshow": {
     "slide_type": "slide"
    }
   },
   "source": [
    "**Excercice 10:**\n",
    "\n",
    "Ecrire un programme qui permet de génèrer de manière aléatoire un nombre à deux chiffres, invite l'utilisateur à saisir un nombre à deux chiffres et détermine si l'utilisateur gagne selon les règles suivantes :\n",
    "* Si l'entrée de l'utilisateur correspond à la loterie (le nombre généré aléatoirement) dans l'ordre exact, la récompense est de 10 000€.\n",
    "* Sinon, si les deux chiffres entrés par l'utilisateur correspondent aux deux chiffres du numéro de loterie, la récompense est de 3 000€.\n",
    "* Sinon, si un chiffre dans l'entrée de l'utilisateur correspond à un chiffre dans le numéro de loterie, la récompense est de 1 000€.\n",
    "\n",
    "**Astuce :** Utiliser la fonction **random.randint(0, 99)** pour génèrer de manière aléatoire un nombre à deux chiffres. Cette fonction doit être accompagné par **import random** comme première instruction dans le code."
   ]
  },
  {
   "cell_type": "code",
   "execution_count": null,
   "metadata": {
    "slideshow": {
     "slide_type": "notes"
    }
   },
   "outputs": [
    {
     "name": "stdout",
     "output_type": "stream",
     "text": [
      "2 3 20 23\n",
      "23 2 3\n",
      "Bravo, vous venez de gagner 10 000 euros !\n"
     ]
    }
   ],
   "source": [
    "import random\n",
    "a = random.randint(0,9)\n",
    "b = random.randint(0,9)\n",
    "c = a * 10\n",
    "ab = c + b\n",
    "print (a,b,c,ab) \n",
    "x = input(\"Quel nombre peut-être celui de la Loterie ?\")\n",
    "x = int(x)\n",
    "d = x // 10\n",
    "e = x % 10\n",
    "print (x,d,e)\n",
    "if x == ab :\n",
    "    print(\"Bravo, vous venez de gagner 10 000 euros !\")\n",
    "elif a == e and b == d :\n",
    "    print(\"Bravo, vous venez de gagner 3 000 euros !\")\n",
    "elif a == e or a == d or b == e or b == d :\n",
    "    print(\"Bravo, vous venez de gagner 1 000 euros !\")\n",
    "else :\n",
    "    print (\"Vous venez de perdre, dommage !\")"
   ]
  },
  {
   "cell_type": "markdown",
   "metadata": {},
   "source": [
    "**Exercice 11:**\n",
    "    \n",
    "Ecrire un programme qui permet de calculer la somme des chiffres d'un entier *n* donné. Le nombre *n* doit être compris entre 10 et 20 (bornes incluses)."
   ]
  },
  {
   "cell_type": "code",
   "execution_count": null,
   "metadata": {},
   "outputs": [
    {
     "name": "stdout",
     "output_type": "stream",
     "text": [
      "7\n"
     ]
    }
   ],
   "source": [
    "\n",
    "import random\n",
    "x = random.randint(10,20)\n",
    "a,b = list(map(int,str(x)))\n",
    "print(x)\n",
    "print(a+b)\n",
    "\n",
    "#ou\n",
    "\n",
    "n=int(input(\"entrez un nombre\"))\n",
    "if n<10 or n>20:\n",
    "    print(\"entrez un nombre compris entre 10 et 20 bornes incluses\")\n",
    "else:\n",
    "    somme=0\n",
    "    for i in str(n):\n",
    "        somme += int(i)\n",
    "    print(somme)\n",
    "\n",
    "#ou\n",
    "\n",
    "n=int(input(\"entrez un nombre\"))\n",
    "if n>10 and n<=20:\n",
    "    somme = (n//10) + (n%10)\n",
    "print(somme)"
   ]
  },
  {
   "cell_type": "markdown",
   "metadata": {},
   "source": [
    "**Exercice 12:**\n",
    "\n",
    "1. Ecrire un programme qui permet de générer aléatoirement deux nombres entre 0 et 9, de calculer leurs différences (en valeur absolue), puis d'inviter l'utilisateur à répondre à la question suivante *que vaut abs(number1 - number2)?*. Le programme doit permettre à l'utilisateur de répondre plusieurs fois jusqu'à la saisie de la bonne réponse.\n",
    "2. Modifier le programme précédent de telle sorte qu'il génère cinq occurences à la suite invitant à répondre à la question précédente. A la fin, le programme affiche le nombre moyen de tentatives qu'il a fallu à l'utilisateur pour répondre à une question."
   ]
  },
  {
   "cell_type": "code",
   "execution_count": null,
   "metadata": {
    "tags": []
   },
   "outputs": [
    {
     "name": "stdout",
     "output_type": "stream",
     "text": [
      "2 - 0\n",
      "Mauvaise réponse, tu as encore 5 chances pour trouver la bonne réponse !\n",
      "0 - 2 en valeur absolue\n",
      "Bravo, la réponse est effectivement 2 et tu as réussi en 1 essais\n"
     ]
    }
   ],
   "source": [
    "import random, sys\n",
    "\n",
    "number1 = random.randint(0,9)\n",
    "number2 = random.randint(0,9)\n",
    "\n",
    "x = 5\n",
    "\n",
    "if number1 >= number2 :\n",
    "    diff = number1-number2\n",
    "    print (number1,\"-\", number2)\n",
    "    quest = int(input(\"Quelle est la résultat de la différence du chiffre number>number ?\"))\n",
    "elif number1 <= number2 :\n",
    "    diff = number2-number1\n",
    "    print (number2,\"-\", number1)\n",
    "    quest = int(input(\"Quelle est la résultat de la différence du chiffre number>number ?\"))\n",
    "else :\n",
    "    diff = 0\n",
    "    print (number1,\",\", number2)\n",
    "    quest = int(input(\"Quelle est la résultat de la différence du chiffre number>number ?\"))\n",
    "\n",
    "\n",
    "\n",
    "if diff == quest :\n",
    "    print(\"Bravo, la réponse est effectivement\", quest)\n",
    "else :\n",
    "    while quest != diff :\n",
    "        print(\"Mauvaise réponse, tu as encore\",x,\"chances pour trouver la bonne réponse !\")\n",
    "        x = x-1\n",
    "        print (number1,\"-\", number2,\"en valeur absolue\")\n",
    "        quest = int(input(\"Quelle est la résultat de la différence du chiffre number>number ?\"))\n",
    "        if x == 0:\n",
    "            sys.exit(\"Désolé, tu vas rater ta Licence\")\n",
    "    y = 5 - x\n",
    "    print(\"Bravo, la réponse est effectivement\", quest, \"et tu as réussi en\",y,\"essais\")"
   ]
  },
  {
   "cell_type": "code",
   "execution_count": null,
   "metadata": {
    "tags": []
   },
   "outputs": [
    {
     "name": "stdout",
     "output_type": "stream",
     "text": [
      "0 - 1 en valeur absolue\n",
      "Tu as raté cette question\n",
      "8 - 2 en valeur absolue\n",
      "Bravo, la réponse est effectivement 6\n",
      "8 - 5 en valeur absolue\n",
      "Bravo, la réponse est effectivement 3\n",
      "1 - 0 en valeur absolue\n",
      "Bravo, la réponse est effectivement 1\n",
      "9 - 0 en valeur absolue\n",
      "Bravo, la réponse est effectivement 9\n",
      "Le jeu est terminé, tu as 80.0 % de réussite\n"
     ]
    }
   ],
   "source": [
    "\n",
    "import random, sys\n",
    "x = 0\n",
    "for i in range (0,5):\n",
    "    quest = 999\n",
    "    number1 = random.randint(0,9)\n",
    "    number2 = random.randint(0,9)\n",
    "    \n",
    "    if number1 >= number2 :\n",
    "        diff = number1-number2\n",
    "    elif number1 <= number2 :\n",
    "        diff = number2-number1\n",
    "    else :\n",
    "        diff = 0\n",
    "    if i == 0:\n",
    "        print(number1,\"-\", number2,\"en valeur absolue\")\n",
    "        quest = int(input(\"Quelle est la résultat de la différence du chiffre number>number ?\"))\n",
    "    else:\n",
    "        print(number1,\"-\", number2,\"en valeur absolue\")\n",
    "        quest = int(input(\"Quelle est la résultat de la différence du chiffre number>number ?\"))\n",
    "    if diff == quest :\n",
    "        print(\"Bravo, la réponse est effectivement\", quest)\n",
    "        x = x + 1\n",
    "    else :\n",
    "        print(\"Tu as raté cette question\")\n",
    "moyen = (x / 5) * 100\n",
    "\n",
    "print(\"Le jeu est terminé, tu as\",moyen,\"% de réussite\")"
   ]
  },
  {
   "cell_type": "markdown",
   "metadata": {},
   "source": [
    "**Exercice 13:**\n",
    "\n",
    "Ecrire un programme qui permet de calculer le nombre de mots dans une phrase saisie par l'utilisateur."
   ]
  },
  {
   "cell_type": "code",
   "execution_count": null,
   "metadata": {
    "tags": []
   },
   "outputs": [
    {
     "name": "stdout",
     "output_type": "stream",
     "text": [
      "['je', 'sis']\n",
      "2\n",
      "False\n",
      "False\n",
      "False\n",
      "False\n",
      "False\n",
      "False\n"
     ]
    }
   ],
   "source": [
    "texte = input (\"Ecrivez vos douleurs...\")\n",
    "\n",
    "\n",
    "list_of_words = texte.split()\n",
    "print (list_of_words)\n",
    "print(len(list_of_words))\n",
    "\n",
    "#ou\n",
    "\n",
    "mot = 1\n",
    "for i in texte:\n",
    "    if i == \" \":\n",
    "        mot+=1\n",
    "print(mot)\n",
    "\n"
   ]
  },
  {
   "cell_type": "markdown",
   "metadata": {
    "slideshow": {
     "slide_type": "slide"
    }
   },
   "source": [
    "---\n",
    "\n",
    "## 4. Pour s'entraîner\n",
    "\n",
    "**Exercice 14:**\n",
    "    \n",
    "Soit la variable my_input = \"zoophysiology\". Ecrire un script qui permet d'afficher l'un des messages suivants en fonction du nombre maximum de *o* consécutifs dans la variable *my_input*. Par exemple, le script doit afficher \"I like studying birds! I want to become an ornithologist!\" parce qu'il y a deux *o* consécutifs, même s'il y a aussi des *o* individual.\n",
    "Ignorer les *o* majuscules - recherchez que les *o* minuscules.\n",
    "\n",
    "* Si \"o\" apparaît trois fois ou plus de suite, afficher le message \"I like going to the zoo!\"  \n",
    "* Si \"o\" apparaît deux fois, afficher le message \"I like studying birds! I want to become an ornithologist!\"  \n",
    "* Si \"o\" apparaît une seule fois, afficher le message \"I like studying fish! I want to become an ichthyologist!\"  \n",
    "* Si \"o\" n'apparaît pas dans la variable *my_input*, afficher le message \"I miss going to the zoo!\"  \n",
    "\n",
    "**Astuce :** Utiliser l'opérateur **in** qui renvoie **True** si la première chaîne se trouve dans la deuxième chaîne. "
   ]
  },
  {
   "cell_type": "code",
   "execution_count": null,
   "metadata": {
    "slideshow": {
     "slide_type": "notes"
    }
   },
   "outputs": [
    {
     "name": "stdout",
     "output_type": "stream",
     "text": [
      "\n",
      "I like going to the Zoo!\n"
     ]
    }
   ],
   "source": [
    "\"\"\"\n",
    "my_input = \"zooophysilgy\"\n",
    "len_input = len(my_input)\n",
    "count = 0\n",
    "repeat = 0\n",
    "#print(len_input)\n",
    "\n",
    "while repeat != len_input :\n",
    "    letter = my_input[repeat]\n",
    "    if letter == 'o':\n",
    "        count += 1\n",
    "    #else :\n",
    "        #print(\"there is a    '\",letter,\"'    here but not the 'o'\")\n",
    "    repeat += 1\n",
    "print(\"\")\n",
    "if \"ooo\" in my_input:\n",
    "    print(\"I like going to the Zoo!\")\n",
    "elif count == 2:\n",
    "    print(\"I like studying birds! I want to become an ornithologist!\")\n",
    "elif count == 1:\n",
    "    print(\"I like studying fish! I want to become an ichtyologist!\")\n",
    "elif count == 0:\n",
    "    print(\"I miss going to the zoo\")\n",
    "else:\n",
    "    print(\"bug\")\n",
    "\"\"\"\n",
    "#ou\n",
    "my_input = \"zooophysilgy\"\n",
    "if \"ooo\" in my_input:\n",
    "    print(\"I like going to the zoo\")\n",
    "elif \"oo\" in my_input:\n",
    "    print(\"I like studying birds\")\n",
    "elif \"o\" in my_input:\n",
    "    print(\"I like studying fish\")\n",
    "else:\n",
    "    print(\"I miss going to the zoo\")"
   ]
  },
  {
   "cell_type": "markdown",
   "metadata": {
    "slideshow": {
     "slide_type": "slide"
    }
   },
   "source": [
    "**Exercice 15:**\n",
    "    \n",
    "Créer quatre variables nommées *team_1* et *team_2*, représentant deux noms d'équipes, et *team_1_score* et *team_2_score*, représentant les scores de ces deux équipes. \n",
    "Une équipe gagne si son score est supérieur à l'autre score de l'autre équipe.\n",
    " \n",
    "Ecrire un premier script qui permet d'afficher les messages suivants selon les valeurs entrées, ceci en utilisant seulement les quatres variables créées :\n",
    "* Si une équipe bat l'autre, affichez: \"\\[winner\\] beat \\[loser\\] by \\[margin\\]\"\n",
    "* Si aucune des équipes n'a gagné, affichez: \"\\[team_1\\] played \\[team_2\\] and it was a tie\"\n",
    "\n",
    "Ecrire un deuxième script qui permet d'afficher les mêmes messages mais en ajoutant trois variables de plus :\n",
    "* La variable *winner* pour définir l'équipe gagnante  \n",
    "* La variable *loser* pour définier l'équipe perdante  \n",
    "* La variable *margin* pour définir la différence entre les deux scores \n"
   ]
  },
  {
   "cell_type": "code",
   "execution_count": null,
   "metadata": {
    "slideshow": {
     "slide_type": "notes"
    }
   },
   "outputs": [
    {
     "name": "stdout",
     "output_type": "stream",
     "text": [
      "How much 3 + 7 can be ?\n",
      "How much 3 + 0 can be ?\n",
      "Done you got it oui\n",
      "Bruh, your answer is false\n",
      "Winner is oui with 1 point's more than fi\n"
     ]
    }
   ],
   "source": [
    "team_1 = input(\"Team 1\\n Choose your team name\")\n",
    "team_1_score = 0\n",
    "team_2 = input(\"Team 2\\n Choose your team name\")\n",
    "team_2_score = 0\n",
    "counter = 0\n",
    "import random\n",
    "count = int(input(\"En combien de round's\"))\n",
    "\n",
    "while counter != count:\n",
    "    a = random.randint(1,20)\n",
    "    b = random.randint(1,20)\n",
    "    print(\"How much\",a,\"+\",b,\"can be ?\")\n",
    "    answer1 = int(input(\"Answer of Team 1\"))\n",
    "    c = random.randint(0,20)\n",
    "    d = random.randint(0,20)\n",
    "    print(\"How much\",c,\"+\",d,\"can be ?\")\n",
    "    answer2 = int(input(\"Answer of Team 2\"))\n",
    "    if a + b == answer1 :\n",
    "        team_1_score += 1\n",
    "        print(\"Done you got it\",team_1)\n",
    "    else:\n",
    "        print(\"Bruh, your answer is false\")\n",
    "    if c + d == answer2 :\n",
    "        team_2_score += 1\n",
    "        print(\"Done, you got it\",team_2)\n",
    "    else:\n",
    "        print(\"Bruh, your answer is false\")\n",
    "    counter +=1\n",
    "\n",
    "if team_1_score == team_2_score:\n",
    "    print(team_1,\"played\",team_2,\"and it was a tie\")\n",
    "elif team_1_score >= team_2_score:\n",
    "    print(\"Winner is\",team_1,\"with\",team_1_score - team_2_score,\"point's more than\",team_2)\n",
    "elif team_1_score <= team_2_score:\n",
    "    print(\"Winner is\",team_2,\"with\",team_2_score - team_1_score,\"point's more than\",team_1)\n",
    " "
   ]
  },
  {
   "cell_type": "code",
   "execution_count": null,
   "metadata": {
    "slideshow": {
     "slide_type": "notes"
    }
   },
   "outputs": [
    {
     "name": "stdout",
     "output_type": "stream",
     "text": [
      "How much 11 + 9 can be ?\n",
      "How much 7 + 4 can be ?\n",
      "Done you got it oui\n",
      "Bruh, your answer is false\n",
      "Winner is oui with 1 point's more than fi\n"
     ]
    }
   ],
   "source": [
    "team_1 = input(\"Team 1\\n Choose your team name\")\n",
    "team_1_score = 0\n",
    "team_2 = input(\"Team 2\\n Choose your team name\")\n",
    "team_2_score = 0\n",
    "counter = 0\n",
    "import random\n",
    "count = int(input(\"En combien de round's\"))\n",
    "\n",
    "while counter != count:\n",
    "    a = random.randint(1,20)\n",
    "    b = random.randint(1,20)\n",
    "    print(\"How much\",a,\"+\",b,\"can be ?\")\n",
    "    answer1 = int(input(\"Answer of Team 1\"))\n",
    "    c = random.randint(0,20)\n",
    "    d = random.randint(0,20)\n",
    "    print(\"How much\",c,\"+\",d,\"can be ?\")\n",
    "    answer2 = int(input(\"Answer of Team 2\"))\n",
    "    if a + b == answer1 :\n",
    "        team_1_score += 1\n",
    "        print(\"Done you got it\",team_1)\n",
    "    else:\n",
    "        print(\"Bruh, your answer is false\")\n",
    "    if c + d == answer2 :\n",
    "        team_2_score += 1\n",
    "        print(\"Done, you got it\",team_2)\n",
    "    else:\n",
    "        print(\"Bruh, your answer is false\")\n",
    "    counter +=1\n",
    "\n",
    "winner = \"\"\n",
    "loser = \"\"\n",
    "margin = 0\n",
    "if team_1_score == team_2_score:\n",
    "    winner == \"Both\"\n",
    "    loser == None\n",
    "    margin = 0\n",
    "    print(team_1,\"played\",team_2,\"and it was a tie\")\n",
    "elif team_1_score >= team_2_score:\n",
    "    winner = team_1\n",
    "    loser= team_2\n",
    "    margin = team_1_score - team_2_score\n",
    "    print(\"Winner is\",winner,\"with\",margin,\"point's more than\",loser)\n",
    "elif team_1_score <= team_2_score:\n",
    "    winner = team_2\n",
    "    loser= team_1\n",
    "    margin = team_2_score - team_1_score\n",
    "    print(\"Winner is\",winner,\"with\",margin,\"point's more than\",loser)\n",
    " "
   ]
  },
  {
   "cell_type": "markdown",
   "metadata": {
    "slideshow": {
     "slide_type": "slide"
    }
   },
   "source": [
    "**Exercice 16:**\n",
    "    \n",
    "L'Indice de Masse Corporelle (IMC) permet d'estimer le poids idéal en fonction de la taille. Son calcul correspond au poids en kilogrammes divisé par le carré de la taille en mètre (IMC = poids en kg/taille² en m). Le chiffre obtenu permet d'estimer la corpulence et éventuellement le surpoids ou l'obésité chez l'adulte, homme ou femme.\n",
    "L'interprétation de l'IMC pour les personnes de 16 ans et plus est la suivante :\n",
    "* Moins de 18.5: Underweight\n",
    "* Entre 18.5 et 24.9: Normal\n",
    "* Entre 25.0 et 29.9: Overweight\n",
    "* Plus que 30.0: Obese\n",
    "\n",
    "Ecrire un programme qui permet de saisir un poids en *pounds* et une taille en *inches*, de calculer et d'afficher l'IMC à deux valeurs après la virgule, et d'afficher l'interprétation la plus adéquate. Notez qu'un *pound* équivaut à 0,45359237 kilogrammes et qu'un *inch* équivaut à 0,0254 mètre.  \n",
    "\n",
    "**Astuce :** Pour afficher deux valeurs après la virgule, utilisez la fonction **format(nom_variable, \".2f\")**. Exemple : **print('La moyenne est :', format(moyenne, \".2f\"))**"
   ]
  },
  {
   "cell_type": "code",
   "execution_count": null,
   "metadata": {
    "slideshow": {
     "slide_type": "notes"
    }
   },
   "outputs": [
    {
     "name": "stdout",
     "output_type": "stream",
     "text": [
      "Hello, this program can calculate your IMC\n",
      " let's start !\n",
      "Ton IMC est de 19.01 \n",
      "Tu es considéré comme Normal\n"
     ]
    }
   ],
   "source": [
    "print(\"Hello, this program can calculate your IMC\\n let's start !\")\n",
    "pounds = float(input(\"Your weight (in pounds)\"))\n",
    "inches = float(input(\"Your size (in inches)\"))\n",
    "imc = (pounds*0.45359237) / ((inches * 0.0254)**2)\n",
    "correspondance = \"\"\n",
    "if imc < 18.5:\n",
    "    correspondance = \"Underweight\"\n",
    "elif imc >= 18.5 and imc < 25:\n",
    "    correspondance = \"Normal\"\n",
    "elif imc >= 25 and imc < 30:\n",
    "    correspondance = \"Overweight\"\n",
    "else:\n",
    "    correspondance = \"Obese\"\n",
    "print(\"Ton IMC est de\",format(imc, \".2f\"),\"\\nTu es considéré comme\",correspondance)"
   ]
  },
  {
   "cell_type": "markdown",
   "metadata": {},
   "source": [
    "**Exercice 17:**\n",
    "\n",
    "Ecrire un programme qui affiche un triangle d'étoiles de taille donnée, par exemple si on entre 6, le programme affiche:\n",
    "```\n",
    "*\n",
    "**\n",
    "***\n",
    "****\n",
    "*****\n",
    "******\n",
    "```"
   ]
  },
  {
   "cell_type": "code",
   "execution_count": null,
   "metadata": {
    "tags": []
   },
   "outputs": [
    {
     "name": "stdout",
     "output_type": "stream",
     "text": [
      "\n",
      "*\n",
      "**\n",
      "***\n"
     ]
    }
   ],
   "source": [
    "round = int(input(\"De quelle taille veux-tu ton triangle ?\"))+1\n",
    "for i in range(0,round):\n",
    "    print(\"*\"*i)"
   ]
  },
  {
   "cell_type": "markdown",
   "metadata": {},
   "source": [
    "**Exercice 18:**\n",
    "\n",
    "Même exercice mais cette fois la sortie est\n",
    "```\n",
    "     *\n",
    "    **         \n",
    "   ***\n",
    "  ****\n",
    " *****\n",
    "******\n",
    "```"
   ]
  },
  {
   "cell_type": "code",
   "execution_count": null,
   "metadata": {
    "tags": []
   },
   "outputs": [
    {
     "name": "stdout",
     "output_type": "stream",
     "text": [
      "      *\n",
      "     **\n",
      "    ***\n",
      "  *\n",
      "  **\n",
      "  ***\n"
     ]
    }
   ],
   "source": [
    "rounds = int(input(\"De quelle taille veux-tu ton triange ?\"))+1\n",
    "espace = rounds + 1\n",
    "for i in range(1,rounds):\n",
    "    print(espace*\" \",i*\"*\")\n",
    "    espace -= 1\n",
    "\n",
    "#ou\n",
    "\n",
    "a=int(input(\"entrez un nombre pour votre triangle\"))\n",
    "for i in range(1,a+1):\n",
    "    #print(\"*\"*i)\n",
    "    print(\" \"*(a-1)+\"*\"*i)"
   ]
  },
  {
   "cell_type": "markdown",
   "metadata": {},
   "source": [
    "**Exercice 19:**\n",
    "\n",
    "Ecrire un programme qui calcule, étant donné un entier *n* rentré par l'utilisateur, la plus grande puissance de *n* inférieure à un million."
   ]
  },
  {
   "cell_type": "code",
   "execution_count": 24,
   "metadata": {
    "tags": []
   },
   "outputs": [
    {
     "name": "stdout",
     "output_type": "stream",
     "text": [
      "pgcd = 5\n"
     ]
    }
   ],
   "source": [
    "\"\"\"\n",
    "from math import*\n",
    "result= 0\n",
    "power = 0\n",
    "number1 = int(input(\"Choisi un nombre\"))\n",
    "while result <= 1000000 or not number1 == 1000000:\n",
    "    power += 1\n",
    "    result = number1**power\n",
    "    #print(number1,power,result)\n",
    "print(number1,\"**\",power,\"=\",result)\n",
    "\"\"\"\n",
    "\n"
   ]
  },
  {
   "cell_type": "code",
   "execution_count": null,
   "metadata": {},
   "outputs": [],
   "source": [
    "#Exercice 1, if else elif:\n",
    "#\"\"\"\n",
    "a,b = int(input(\"entrez un nombre entier\")), int(input(\"entrez un nombre entier\")) #on initialise a et b par des valeurs entière poser par l'utilisateur\n",
    "print(a,b)\n",
    "if a > b: #si a > b\n",
    "    a,b = b,a #on inverse a et b \n",
    "print(a,b)\n",
    "\n",
    "#Exercice 1, For while\n",
    "#\"\"\"\n",
    "a=int(input(\"Valeur de a ?\")) \n",
    "b=int(input(\"Valeur de b ?\")) \n",
    "while a!=b: \n",
    "    resultat=abs(b-a) #le resultat est égale à la valeur absolue de b-a\n",
    "    b=a #on met b = à a\n",
    "    a=resultat #on remplace a par résultat pour qu'il reste toujours plus grand\n",
    "print(\"pgcd =\",resultat) \n",
    "if resultat==1: \n",
    "    print(\"Les deux entiers sont premiers entre eux.\")\n",
    "#\"\"\""
   ]
  }
 ],
 "metadata": {
  "celltoolbar": "Diaporama",
  "kernelspec": {
   "display_name": "Python 3.10.4 ('l1-python')",
   "language": "python",
   "name": "python3"
  },
  "language_info": {
   "codemirror_mode": {
    "name": "ipython",
    "version": 3
   },
   "file_extension": ".py",
   "mimetype": "text/x-python",
   "name": "python",
   "nbconvert_exporter": "python",
   "pygments_lexer": "ipython3",
   "version": "3.10.4"
  },
  "vscode": {
   "interpreter": {
    "hash": "ca84a297d4edf8a432306b6f4939272f6413e6c2dc704ff625e732e27a14ce06"
   }
  }
 },
 "nbformat": 4,
 "nbformat_minor": 4
}
