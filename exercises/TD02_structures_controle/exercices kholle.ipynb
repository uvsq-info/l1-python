{
 "cells": [
  {
   "cell_type": "code",
   "execution_count": null,
   "metadata": {},
   "outputs": [],
   "source": []
  },
  {
   "cell_type": "code",
   "execution_count": 5,
   "metadata": {},
   "outputs": [],
   "source": [
    "#exercice 2\n",
    "import random\n",
    "\n",
    "x = random.randint(10, 99)\n",
    "y = int(input(\"saisissez un chiffre\"))\n",
    "if y >= 1 and x % y == 0 :\n",
    "    print(\"Diviseur\")"
   ]
  },
  {
   "cell_type": "code",
   "execution_count": 7,
   "metadata": {},
   "outputs": [],
   "source": [
    "var1 = 34\n",
    "var2 = 7\n",
    "\n",
    "if var1>0 and var2>0 or var1<0 and var2<0 :\n",
    "    var1, var2 = var2, var1\n",
    "else :\n",
    "    x = var1**var2\n",
    "    var2 = var1*var2\n",
    "    var1 = x\n"
   ]
  },
  {
   "cell_type": "code",
   "execution_count": 9,
   "metadata": {},
   "outputs": [
    {
     "name": "stdout",
     "output_type": "stream",
     "text": [
      "6\n"
     ]
    }
   ],
   "source": [
    "#exercice 1\n",
    "\n",
    "a = 120\n",
    "b = 54\n",
    "\n",
    "for x in range (a, 0, -1):\n",
    "    if a % x == 0 and b % x == 0 :\n",
    "        print(x)\n",
    "        break"
   ]
  },
  {
   "cell_type": "code",
   "execution_count": 11,
   "metadata": {},
   "outputs": [
    {
     "name": "stdout",
     "output_type": "stream",
     "text": [
      "1518\n"
     ]
    }
   ],
   "source": [
    "#exercice 2\n",
    "\n",
    "somme = 0\n",
    "n = int(input(\"âge ?\"))\n",
    "for i in range (1, n + 1):\n",
    "    somme = somme + 120 + 3*i\n",
    "print(somme)\n"
   ]
  },
  {
   "cell_type": "code",
   "execution_count": 12,
   "metadata": {},
   "outputs": [
    {
     "name": "stdout",
     "output_type": "stream",
     "text": [
      "10\n",
      "9\n",
      "8\n",
      "7\n",
      "6\n",
      "5\n",
      "4\n",
      "3\n",
      "2\n",
      "1\n"
     ]
    }
   ],
   "source": [
    "#exercice 3\n",
    "\n",
    "n = int(input(\"saisir un nombre\"))\n",
    "for i in range(n-1, n-11, -1) :\n",
    "    print(i)"
   ]
  },
  {
   "cell_type": "code",
   "execution_count": null,
   "metadata": {},
   "outputs": [],
   "source": []
  }
 ],
 "metadata": {
  "kernelspec": {
   "display_name": "Python 3.10.4 ('l1-python')",
   "language": "python",
   "name": "python3"
  },
  "language_info": {
   "codemirror_mode": {
    "name": "ipython",
    "version": 3
   },
   "file_extension": ".py",
   "mimetype": "text/x-python",
   "name": "python",
   "nbconvert_exporter": "python",
   "pygments_lexer": "ipython3",
   "version": "3.10.4"
  },
  "orig_nbformat": 4,
  "vscode": {
   "interpreter": {
    "hash": "c40ec1b8fe39daf00984f8ba30325fc08ad307055404f66b6babdfa1fdac6336"
   }
  }
 },
 "nbformat": 4,
 "nbformat_minor": 2
}
