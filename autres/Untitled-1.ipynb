{
 "cells": [
  {
   "cell_type": "markdown",
   "metadata": {},
   "source": [
    "                                                        Kholle 2\n",
    "\n",
    "\n",
    "---\n",
    "**Ex1:**\n"
   ]
  },
  {
   "cell_type": "code",
   "execution_count": 6,
   "metadata": {},
   "outputs": [
    {
     "name": "stdout",
     "output_type": "stream",
     "text": [
      "[5, 7, 5, 32]\n"
     ]
    }
   ],
   "source": [
    "def retiremaxmin(liste):\n",
    "    \"\"\"Cette fonction retire le maximum et le minimum d'une liste d'entier donnée\"\"\"\n",
    "    liste.remove(max(liste))                # on retire le maximum de la liste donnée grâce à la fonction max et remove\n",
    "    liste.remove(min(liste))                # on retire le minimumum de la liste donnée grâce à la fonction min et remove\n",
    "    return liste                            #on renvoie la liste actualisée\n",
    "\n",
    "liste = [1,5,7,5,32,76]\n",
    "print(retiremaxmin(liste))"
   ]
  },
  {
   "cell_type": "markdown",
   "metadata": {},
   "source": [
    "---\n",
    "**Ex2:**"
   ]
  },
  {
   "cell_type": "code",
   "execution_count": 29,
   "metadata": {},
   "outputs": [
    {
     "name": "stdout",
     "output_type": "stream",
     "text": [
      "01.43.64.11.11\n",
      "Euler\n"
     ]
    }
   ],
   "source": [
    "def quel_numero(bdd,nom_de_famille):\n",
    "    \"\"\"Cette fonction permet de retrouver le numéro d'une personne en rentrant son nom de famille\"\"\"\n",
    "    for i in range(len(bdd)):               # on parcourt la liste de liste, de liste en liste\n",
    "        for j in range(len(bdd[i])):        # on parcourt les éléments de chaque liste\n",
    "            if bdd[i][j] == nom_de_famille: # si le nom de famille se trouve dans un des éléments d'une des listes de notre liste imbriqué\n",
    "                return bdd[i][2]            # on renvoie le nom de famille qui est dans une des liste (ici i) à l'indice 2\n",
    "    return -1                               # sinon on renvoie -1\n",
    "    \n",
    "def quel_nom(bdd,numero):\n",
    "    \"\"\"Cette fonction permet de retrouver le nom de famille d'une personne en rentrant son numéro\"\"\"\n",
    "    for i in range(len(bdd)):               # on parcourt la liste de liste, de liste en liste\n",
    "        for j in range(len(bdd[i])):        # on parcourt les éléments de chaque liste \n",
    "            if bdd[i][j] == numero:         # si le numero se trouve dans un des éléments d'une des listes de notre liste imbriqué\n",
    "                return bdd[i][1]            # on renvoie le nom de famille qui est dans une des liste (ici i) à l'indice 1\n",
    "    return \"XXX\"                            # sinon on renvoie XXX\n",
    "\n",
    "\n",
    "\n",
    "base = [[\"Leonhard\", \"Euler\", \"01.43.64.00.00\"],[\"Sophie\", \"Germain\", \"01.43.64.11.11\"]]\n",
    "\n",
    "print(quel_numero(base,\"Germain\"))\n",
    "print(quel_nom(base,\"01.43.64.00.00\"))"
   ]
  }
 ],
 "metadata": {
  "kernelspec": {
   "display_name": "Python 3.9.6 64-bit",
   "language": "python",
   "name": "python3"
  },
  "language_info": {
   "codemirror_mode": {
    "name": "ipython",
    "version": 3
   },
   "file_extension": ".py",
   "mimetype": "text/x-python",
   "name": "python",
   "nbconvert_exporter": "python",
   "pygments_lexer": "ipython3",
   "version": "3.9.6"
  },
  "orig_nbformat": 4,
  "vscode": {
   "interpreter": {
    "hash": "31f2aee4e71d21fbe5cf8b01ff0e069b9275f58929596ceb00d14d90e3e16cd6"
   }
  }
 },
 "nbformat": 4,
 "nbformat_minor": 2
}
