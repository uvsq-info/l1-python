{
 "cells": [
  {
   "cell_type": "markdown",
   "metadata": {},
   "source": [
    "liste          : [\"bus\", \"voiture\", \"vélo\", \"trotinette\"]\n",
    "indice positif :    0       1         2         3\n",
    "indice négatif :   -4      -3        -2        -1 "
   ]
  },
  {
   "cell_type": "code",
   "execution_count": 6,
   "metadata": {},
   "outputs": [
    {
     "name": "stdout",
     "output_type": "stream",
     "text": [
      "[5, 10, 15, 20, 25, 30, 35, 40, 45, 50, 55, 60, 65, 70, 75]\n",
      "[5, 10, 15, 20, 25, 30, 35, 40, 45, 50, 55, 60, 65, 70, 75]\n",
      "[2, 4, 6, 8, 10, 12, 14, 16, 18, 20]\n",
      "[2, 4, 6, 8, 10, 12, 14, 16, 18, 20]\n"
     ]
    }
   ],
   "source": [
    "multiple = []\n",
    "for i in range(1,16):\n",
    "    multiple.append(i*5)\n",
    "print(multiple)\n",
    "\n",
    "multiples = [n*5 for n in range(1,16)]\n",
    "print(multiples)\n",
    "\n"
   ]
  },
  {
   "cell_type": "code",
   "execution_count": 8,
   "metadata": {},
   "outputs": [
    {
     "name": "stdout",
     "output_type": "stream",
     "text": [
      "[2, 4, 6, 8, 10, 12, 14, 16, 18, 20]\n",
      "[2, 4, 6, 8, 10, 12, 14, 16, 18, 20]\n"
     ]
    }
   ],
   "source": [
    "#nombres de 1 à 20 seulement pairs\n",
    "evens = []\n",
    "for n in range(1,21):\n",
    "    if n%2 == 0:\n",
    "        evens.append(n)\n",
    "print(evens)\n",
    "\n",
    "\n",
    "evenss = [n for n in range(1,21) if n%2 == 0]\n",
    "print(evenss)"
   ]
  },
  {
   "cell_type": "code",
   "execution_count": 9,
   "metadata": {},
   "outputs": [
    {
     "name": "stdout",
     "output_type": "stream",
     "text": [
      "[1, 2, 3, 4, 5, 6, 7, 8, 9, 10, 2, 4, 6, 8, 10, 12, 14, 16, 18, 20, 3, 6, 9, 12, 15, 18, 21, 24, 27, 30]\n",
      "[1, 2, 3, 4, 5, 6, 7, 8, 9, 10, 2, 4, 6, 8, 10, 12, 14, 16, 18, 20, 3, 6, 9, 12, 15, 18, 21, 24, 27, 30]\n"
     ]
    }
   ],
   "source": [
    "# les 3 première tables de multiplication de 1 à 10\n",
    "multiplications = []\n",
    " \n",
    "for i in range(1, 4):\n",
    "    for n in range(1, 11):\n",
    "        multiplications.append(i*n)\n",
    " \n",
    "print(multiplications)\n",
    "\n",
    "multiplications = [i*n for i in range(1,4) for n in range(1,11)]\n",
    " \n",
    "print(multiplications)\n"
   ]
  },
  {
   "cell_type": "code",
   "execution_count": 12,
   "metadata": {},
   "outputs": [
    {
     "name": "stdout",
     "output_type": "stream",
     "text": [
      "[1, 2, 3, 4, 5, 6, 7, 8, 9, 10, 11, 12]\n"
     ]
    }
   ],
   "source": [
    "matrix = [[1, 2, 3, 4],\n",
    "          [5, 6, 7, 8],\n",
    "          [9, 10, 11, 12]]\n",
    " \n",
    "flatten = [n for ligne in matrix for n in ligne]\n",
    " \n",
    "print(flatten)\n"
   ]
  },
  {
   "cell_type": "code",
   "execution_count": 7,
   "metadata": {},
   "outputs": [
    {
     "name": "stdout",
     "output_type": "stream",
     "text": [
      "5\n",
      "['4', '3', ',', '5', '4', ',', '6', '5', '7', '6', '5', ';', '4']\n",
      "2\n"
     ]
    }
   ],
   "source": [
    "def nb_sup(liste,entier):\n",
    "    compteur = 0\n",
    "    for i in liste:\n",
    "        if i == \" \" or i == \",\" or i == \";\":\n",
    "            liste.remove(i)\n",
    "        elif int(i) > entier:\n",
    "            compteur += 1\n",
    "\n",
    "    return compteur\n",
    "\n",
    "\n",
    "entier = int(input(\"entrez un entier\"))\n",
    "liste = list(input(\"entrez une liste\"))\n",
    "print(entier)\n",
    "print(liste)\n",
    "print(nb_sup(liste, entier))\n"
   ]
  },
  {
   "cell_type": "code",
   "execution_count": 86,
   "metadata": {},
   "outputs": [
    {
     "name": "stdout",
     "output_type": "stream",
     "text": [
      "False\n",
      "False\n",
      "False\n",
      "False\n",
      "[['s', 1], ['u', 1], ['i', 1], ['s', 1]]\n"
     ]
    }
   ],
   "source": [
    "def nboccurence(chaine):\n",
    "    occurence_mots = []\n",
    "    compteur = 1\n",
    "    separationmots = chaine.split()\n",
    "    for j in range(len(separationmots)):\n",
    "        for i in separationmots[j]:\n",
    "            print(i in occurence_mots)\n",
    "            if i not in occurence_mots:\n",
    "                occurence_mots.extend([[i,1]])\n",
    "            else:\n",
    "                if occurence_mots[j][1] >= 1:\n",
    "                    compteur = occurence_mots[j][1] + 1\n",
    "                    occurence_mots[j][1] = compteur\n",
    "                else:\n",
    "                    occurence_mots.extend([[i,1]])\n",
    "               \n",
    "                        \n",
    "    return occurence_mots\n",
    "\n",
    "chaine_de_caractre = str(input(\"entrez une chaîne de caractères à analyser\"))\n",
    "print(nboccurence(chaine_de_caractre))"
   ]
  },
  {
   "cell_type": "code",
   "execution_count": 78,
   "metadata": {},
   "outputs": [
    {
     "name": "stdout",
     "output_type": "stream",
     "text": [
      "3\n",
      "0\n",
      "3\n",
      "0\n",
      "76\n",
      "1\n",
      "76\n",
      "1\n",
      "4\n",
      "2\n",
      "4\n",
      "2\n"
     ]
    }
   ],
   "source": [
    "list = [[2,3],[4,76],[3,4]]\n",
    "for i in range(len(list)):\n",
    "    for j in range(len(list[i])):\n",
    "        print(list[i][1])\n",
    "        print([i][0])"
   ]
  },
  {
   "cell_type": "code",
   "execution_count": null,
   "metadata": {},
   "outputs": [],
   "source": []
  }
 ],
 "metadata": {
  "kernelspec": {
   "display_name": "Python 3.9.6 64-bit",
   "language": "python",
   "name": "python3"
  },
  "language_info": {
   "codemirror_mode": {
    "name": "ipython",
    "version": 3
   },
   "file_extension": ".py",
   "mimetype": "text/x-python",
   "name": "python",
   "nbconvert_exporter": "python",
   "pygments_lexer": "ipython3",
   "version": "3.9.6"
  },
  "orig_nbformat": 4,
  "vscode": {
   "interpreter": {
    "hash": "31f2aee4e71d21fbe5cf8b01ff0e069b9275f58929596ceb00d14d90e3e16cd6"
   }
  }
 },
 "nbformat": 4,
 "nbformat_minor": 2
}
