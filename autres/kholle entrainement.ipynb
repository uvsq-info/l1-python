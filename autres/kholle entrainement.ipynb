{
 "cells": [
  {
   "cell_type": "markdown",
   "metadata": {},
   "source": [
    "liste          : [\"bus\", \"voiture\", \"vélo\", \"trotinette\"]\n",
    "indice positif :    0       1         2         3\n",
    "indice négatif :   -4      -3        -2        -1 "
   ]
  },
  {
   "cell_type": "code",
   "execution_count": 6,
   "metadata": {},
   "outputs": [
    {
     "name": "stdout",
     "output_type": "stream",
     "text": [
      "[5, 10, 15, 20, 25, 30, 35, 40, 45, 50, 55, 60, 65, 70, 75]\n",
      "[5, 10, 15, 20, 25, 30, 35, 40, 45, 50, 55, 60, 65, 70, 75]\n",
      "[2, 4, 6, 8, 10, 12, 14, 16, 18, 20]\n",
      "[2, 4, 6, 8, 10, 12, 14, 16, 18, 20]\n"
     ]
    }
   ],
   "source": [
    "multiple = []\n",
    "for i in range(1,16):\n",
    "    multiple.append(i*5)\n",
    "print(multiple)\n",
    "\n",
    "multiples = [n*5 for n in range(1,16)]\n",
    "print(multiples)\n",
    "\n"
   ]
  },
  {
   "cell_type": "code",
   "execution_count": 8,
   "metadata": {},
   "outputs": [
    {
     "name": "stdout",
     "output_type": "stream",
     "text": [
      "[2, 4, 6, 8, 10, 12, 14, 16, 18, 20]\n",
      "[2, 4, 6, 8, 10, 12, 14, 16, 18, 20]\n"
     ]
    }
   ],
   "source": [
    "#nombres de 1 à 20 seulement pairs\n",
    "evens = []\n",
    "for n in range(1,21):\n",
    "    if n%2 == 0:\n",
    "        evens.append(n)\n",
    "print(evens)\n",
    "\n",
    "\n",
    "evenss = [n for n in range(1,21) if n%2 == 0]\n",
    "print(evenss)"
   ]
  },
  {
   "cell_type": "code",
   "execution_count": 9,
   "metadata": {},
   "outputs": [
    {
     "name": "stdout",
     "output_type": "stream",
     "text": [
      "[1, 2, 3, 4, 5, 6, 7, 8, 9, 10, 2, 4, 6, 8, 10, 12, 14, 16, 18, 20, 3, 6, 9, 12, 15, 18, 21, 24, 27, 30]\n",
      "[1, 2, 3, 4, 5, 6, 7, 8, 9, 10, 2, 4, 6, 8, 10, 12, 14, 16, 18, 20, 3, 6, 9, 12, 15, 18, 21, 24, 27, 30]\n"
     ]
    }
   ],
   "source": [
    "# les 3 première tables de multiplication de 1 à 10\n",
    "multiplications = []\n",
    " \n",
    "for i in range(1, 4):\n",
    "    for n in range(1, 11):\n",
    "        multiplications.append(i*n)\n",
    " \n",
    "print(multiplications)\n",
    "\n",
    "multiplications = [i*n for i in range(1,4) for n in range(1,11)]\n",
    " \n",
    "print(multiplications)\n"
   ]
  },
  {
   "cell_type": "code",
   "execution_count": 12,
   "metadata": {},
   "outputs": [
    {
     "name": "stdout",
     "output_type": "stream",
     "text": [
      "[1, 2, 3, 4, 5, 6, 7, 8, 9, 10, 11, 12]\n"
     ]
    }
   ],
   "source": [
    "matrix = [[1, 2, 3, 4],\n",
    "          [5, 6, 7, 8],\n",
    "          [9, 10, 11, 12]]\n",
    " \n",
    "flatten = [n for ligne in matrix for n in ligne]\n",
    " \n",
    "print(flatten)\n"
   ]
  },
  {
   "cell_type": "code",
   "execution_count": 7,
   "metadata": {},
   "outputs": [
    {
     "name": "stdout",
     "output_type": "stream",
     "text": [
      "5\n",
      "['4', '3', ',', '5', '4', ',', '6', '5', '7', '6', '5', ';', '4']\n",
      "2\n"
     ]
    }
   ],
   "source": [
    "def nb_sup(liste,entier):\n",
    "    compteur = 0\n",
    "    for i in liste:\n",
    "        if i == \" \" or i == \",\" or i == \";\":\n",
    "            liste.remove(i)\n",
    "        elif int(i) > entier:\n",
    "            compteur += 1\n",
    "\n",
    "    return compteur\n",
    "\n",
    "\n",
    "entier = int(input(\"entrez un entier\"))\n",
    "liste = list(input(\"entrez une liste\"))\n",
    "print(entier)\n",
    "print(liste)\n",
    "print(nb_sup(liste, entier))\n"
   ]
  },
  {
   "cell_type": "code",
   "execution_count": 7,
   "metadata": {},
   "outputs": [
    {
     "name": "stdout",
     "output_type": "stream",
     "text": [
      "[7, 765, 765, 765, 75, 4530]\n",
      "[7, 765, 765, 765, 75, 4530]\n"
     ]
    }
   ],
   "source": [
    "liste1 = [1,2,5,7,9,10]\n",
    "liste2 = []\n",
    "for i in liste1:\n",
    "    liste2.append(i)\n",
    "\n",
    "#ou\n",
    "\n",
    "liste3 = [7,765,765,765,75,4530]\n",
    "liste4 = [i for i in liste3]\n"
   ]
  },
  {
   "cell_type": "code",
   "execution_count": 3,
   "metadata": {},
   "outputs": [
    {
     "name": "stdout",
     "output_type": "stream",
     "text": [
      "[[1, 2], [3, 4, 5]] [[1, 2], [3, 4, 5]]\n",
      "[[1, 2], [3, 65654, 5]] [[1, 2], [3, 65654, 5]]\n"
     ]
    }
   ],
   "source": [
    "l1 = [[1,2],[3,4,5]]\n",
    "l2 = l1.copy()\n",
    "print(l1, l2)\n",
    "l2[1][1] = 65654\n",
    "print(l1, l2)"
   ]
  },
  {
   "cell_type": "code",
   "execution_count": null,
   "metadata": {},
   "outputs": [],
   "source": []
  }
 ],
 "metadata": {
  "kernelspec": {
   "display_name": "Python 3.9.6 64-bit",
   "language": "python",
   "name": "python3"
  },
  "language_info": {
   "codemirror_mode": {
    "name": "ipython",
    "version": 3
   },
   "file_extension": ".py",
   "mimetype": "text/x-python",
   "name": "python",
   "nbconvert_exporter": "python",
   "pygments_lexer": "ipython3",
   "version": "3.9.6 (default, Sep 26 2022, 11:37:49) \n[Clang 14.0.0 (clang-1400.0.29.202)]"
  },
  "orig_nbformat": 4,
  "vscode": {
   "interpreter": {
    "hash": "31f2aee4e71d21fbe5cf8b01ff0e069b9275f58929596ceb00d14d90e3e16cd6"
   }
  }
 },
 "nbformat": 4,
 "nbformat_minor": 2
}
